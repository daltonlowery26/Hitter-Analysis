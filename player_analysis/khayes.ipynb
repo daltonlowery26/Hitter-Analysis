{
 "cells": [
  {
   "cell_type": "markdown",
   "id": "b60646de",
   "metadata": {},
   "source": [
    "### kebryan hayes"
   ]
  },
  {
   "cell_type": "code",
   "execution_count": 35,
   "id": "2efa3875",
   "metadata": {},
   "outputs": [],
   "source": [
    "import pandas as pd\n",
    "import os\n",
    "os.chdir('C:/Users/dalto/OneDrive/Pictures/Documents/Projects/Coding Projects/Biomechanics/data/')\n",
    "\n",
    "full_pitch = pd.read_csv('./full/pitch_zones.csv')\n",
    "pitch = pd.read_csv('./player_data/khayes_pitch_data.csv')\n",
    "season = pd.read_csv('./player_data/khayes_season_data.csv')\n",
    "season = season.loc[:, ~season.columns.str.contains(r'\\.\\d+', regex=True)]"
   ]
  },
  {
   "cell_type": "markdown",
   "id": "0ec2025e",
   "metadata": {},
   "source": [
    "#### Lets Explore How Hayes Handles Velocity"
   ]
  },
  {
   "cell_type": "markdown",
   "id": "b3820890",
   "metadata": {},
   "source": [
    "In 2023"
   ]
  },
  {
   "cell_type": "code",
   "execution_count": 36,
   "id": "166db40b",
   "metadata": {},
   "outputs": [],
   "source": [
    "pitch_23 = pitch[pitch['season'] == 2023]\n",
    "pitch_23_non = pitch_23[pitch_23['pitch_speed'] < 90]\n",
    "pitch_23_velo = pitch_23[pitch_23['pitch_speed'] > 94.9]\n",
    "leauge_23 = full_pitch[full_pitch['season'] == 2023]\n",
    "leauge_23_non = leauge_23[leauge_23['pitch_speed'] < 90]\n",
    "leauge_23_velo = leauge_23[leauge_23['pitch_speed'] > 94.9]"
   ]
  },
  {
   "cell_type": "markdown",
   "id": "e5d4f8ab",
   "metadata": {},
   "source": [
    "In 2024"
   ]
  },
  {
   "cell_type": "code",
   "execution_count": 37,
   "id": "e0c721b5",
   "metadata": {},
   "outputs": [],
   "source": [
    "pitch_24 = pitch[pitch['season'] == 2024]\n",
    "pitch_24_non = pitch_24[pitch_24['pitch_speed'] < 90]\n",
    "pitch_24_velo = pitch_24[pitch_24['pitch_speed'] > 94.9]\n",
    "leauge_24 = full_pitch[full_pitch['season'] == 2024]\n",
    "leauge_24_non = leauge_24[leauge_24['pitch_speed'] < 90]\n",
    "leauge_24_velo = leauge_24[leauge_24['pitch_speed'] > 94.9]"
   ]
  },
  {
   "cell_type": "markdown",
   "id": "b3fa7733",
   "metadata": {},
   "source": [
    "hayes"
   ]
  },
  {
   "cell_type": "code",
   "execution_count": 38,
   "id": "ae56c654",
   "metadata": {},
   "outputs": [
    {
     "name": "stdout",
     "output_type": "stream",
     "text": [
      "Hayes intercept Diff -14.37375026833632\n",
      "Leauge avg Intercept Diff -13.670288472042195\n"
     ]
    }
   ],
   "source": [
    "# Difference in mean intercept_y between pitch_23_velo and pitch_23_non\n",
    "mean_velo = pitch_23_velo['intercept_y'].mean()\n",
    "mean_non = pitch_23_non['intercept_y'].mean()\n",
    "diff_mean_intercept_y_hayes = mean_velo - mean_non\n",
    "print(f\"Hayes intercept Diff {diff_mean_intercept_y_hayes}\")\n",
    "\n",
    "# Difference in mean intercept_y between pitch_23_velo and pitch_23_non\n",
    "mean_velo = leauge_23_velo['intercept_y'].mean()\n",
    "mean_non = leauge_23_non['intercept_y'].mean()\n",
    "diff_mean_intercept_y = mean_velo - mean_non\n",
    "print(f\"Leauge avg Intercept Diff {diff_mean_intercept_y}\")"
   ]
  },
  {
   "cell_type": "markdown",
   "id": "fb3452bb",
   "metadata": {},
   "source": [
    "leauge"
   ]
  },
  {
   "cell_type": "code",
   "execution_count": 39,
   "id": "5fee6ecb",
   "metadata": {},
   "outputs": [
    {
     "name": "stdout",
     "output_type": "stream",
     "text": [
      "Hayes intercept Diff -13.715166610083177\n",
      "Leauge avg Intercept Diff -13.163134707022099\n"
     ]
    }
   ],
   "source": [
    "# Difference in mean intercept_y between pitch_24_velo and pitch_24_non\n",
    "mean_velo = pitch_24_velo['intercept_y'].mean()\n",
    "mean_non = pitch_24_non['intercept_y'].mean()\n",
    "diff_mean_intercept_y_hayes = mean_velo - mean_non\n",
    "print(f\"Hayes intercept Diff {diff_mean_intercept_y_hayes}\")\n",
    "\n",
    "# Difference in mean intercept_y between leauge_24_velo and leauge_24_non\n",
    "mean_velo = leauge_24_velo['intercept_y'].mean()\n",
    "mean_non = leauge_24_non['intercept_y'].mean()\n",
    "diff_mean_intercept_y = mean_velo - mean_non\n",
    "print(f\"Leauge avg Intercept Diff {diff_mean_intercept_y}\")"
   ]
  },
  {
   "cell_type": "markdown",
   "id": "6b2a5d52",
   "metadata": {},
   "source": [
    "#### Hayes vs Pitches in the Top of the Zone"
   ]
  },
  {
   "cell_type": "code",
   "execution_count": 40,
   "id": "5f90a9f7",
   "metadata": {},
   "outputs": [],
   "source": [
    "fastball_types = ['FF', 'SI', 'FC', 'FS', 'FT']\n",
    "top_zones = [10, 11, 12, 13, 14, 28, 29]\n",
    "\n",
    "pitch_up = pitch[\n",
    "    (pitch['pitch_abv'].isin(fastball_types)) &\n",
    "    (pitch['pitch_speed'] > 94) &\n",
    "    (pitch['nzone'].isin(top_zones))\n",
    "]\n",
    "pitch_up_24 = pitch_up[pitch_up['season'] == 2024]\n",
    "pitch_up_23 = pitch_up[pitch_up['season'] == 2023]\n",
    "\n",
    "leauge_up = full_pitch[\n",
    "    (full_pitch['pitch_abv'].isin(fastball_types)) &\n",
    "    (full_pitch['pitch_speed'] > 94) &\n",
    "    (full_pitch['statcast_zone'].isin(top_zones))\n",
    "]\n",
    "leauge_up_24 = leauge_up[leauge_up['season'] == 2024]\n",
    "leauge_up_23 = leauge_up[leauge_up['season'] == 2023]"
   ]
  },
  {
   "cell_type": "code",
   "execution_count": 41,
   "id": "05f3d258",
   "metadata": {},
   "outputs": [
    {
     "name": "stdout",
     "output_type": "stream",
     "text": [
      "Hayes on pitches up '24: 0.1661363636363636\n",
      "Leauge on pitches up '24: 0.3491158581812787\n",
      "Hayes on pitches up '23: 0.2909333333333333\n",
      "Leauge on pitches up '23: 0.3569702030606238\n"
     ]
    }
   ],
   "source": [
    "print(f\"Hayes on pitches up '24: {pitch_up_24['xwoba'].mean()}\")\n",
    "print(f\"Leauge on pitches up '24: {leauge_up_24['xwoba'].mean()}\")\n",
    "print(f\"Hayes on pitches up '23: {pitch_up_23['xwoba'].mean()}\")\n",
    "print(f\"Leauge on pitches up '23: {leauge_up_23['xwoba'].mean()}\")"
   ]
  },
  {
   "cell_type": "code",
   "execution_count": 42,
   "id": "44f01570",
   "metadata": {},
   "outputs": [
    {
     "name": "stdout",
     "output_type": "stream",
     "text": [
      "2023 Hayes: 6.22% of pitches seen are fastballs up\n",
      "2024 Hayes: 8.47% of pitches seen are fastballs up\n"
     ]
    }
   ],
   "source": [
    "# Define fastball types\n",
    "fastball_types = ['FF', 'SI', 'FC', 'FS', 'FT']\n",
    "\n",
    "# For 2023: percent of pitches Hayes sees that are fastballs up\n",
    "hayes_23_total = pitch[pitch['season'] == 2023].shape[0]\n",
    "hayes_23_fastball_up = pitch_up_23[pitch_up_23['pitch_abv'].isin(fastball_types)].shape[0]\n",
    "hayes_23_fastball_up_pct = 100 * hayes_23_fastball_up / hayes_23_total\n",
    "\n",
    "# For 2024: percent of pitches Hayes sees that are fastballs up\n",
    "hayes_24_total = pitch[pitch['season'] == 2024].shape[0]\n",
    "hayes_24_fastball_up = pitch_up_24[pitch_up_24['pitch_abv'].isin(fastball_types)].shape[0]\n",
    "hayes_24_fastball_up_pct = 100 * hayes_24_fastball_up / hayes_24_total\n",
    "\n",
    "print(f\"2023 Hayes: {hayes_23_fastball_up_pct:.2f}% of pitches seen are fastballs up\")\n",
    "print(f\"2024 Hayes: {hayes_24_fastball_up_pct:.2f}% of pitches seen are fastballs up\")"
   ]
  },
  {
   "cell_type": "code",
   "execution_count": 43,
   "id": "5c454c12",
   "metadata": {},
   "outputs": [
    {
     "name": "stdout",
     "output_type": "stream",
     "text": [
      "2023 Leauge: 10.78% of pitches seen are fastballs up\n",
      "2024 Leauge: 10.84% of pitches seen are fastballs up\n"
     ]
    }
   ],
   "source": [
    "leauge_23_total = full_pitch[full_pitch['season'] == 2023].shape[0]\n",
    "leauge_23_fastball_up = leauge_up_23[leauge_up_23['pitch_abv'].isin(fastball_types)].shape[0]\n",
    "leauge_23_fastball_up_pct = 100 * leauge_23_fastball_up / leauge_23_total\n",
    "\n",
    "leauge_24_total = full_pitch[full_pitch['season'] == 2024].shape[0]\n",
    "leauge_24_fastball_up = leauge_up_24[leauge_up_24['pitch_abv'].isin(fastball_types)].shape[0]\n",
    "leauge_24_fastball_up_pct = 100 * leauge_24_fastball_up / leauge_24_total\n",
    "\n",
    "print(f\"2023 Leauge: {leauge_23_fastball_up_pct:.2f}% of pitches seen are fastballs up\")\n",
    "print(f\"2024 Leauge: {leauge_24_fastball_up_pct:.2f}% of pitches seen are fastballs up\")\n"
   ]
  },
  {
   "cell_type": "markdown",
   "id": "7454ab26",
   "metadata": {},
   "source": [
    "Hayes in 2023 was pretty close to leauge average but in 2024 he became competly unable to hit pitches up in the zone, this trend has remained for the first part of the 2025 season."
   ]
  },
  {
   "cell_type": "code",
   "execution_count": 44,
   "id": "2bd5f5f9",
   "metadata": {},
   "outputs": [],
   "source": [
    "csw = ['swinging_strike']\n",
    "\n",
    "leauge_up_swinging_strike_23 = leauge_up_23[leauge_up_23['description'].isin(csw)].shape[0]\n",
    "leauge_up_total_23 = leauge_up_23.shape[0]\n",
    "percent_swinging_strike_leauge_up_23 = 100 * leauge_up_swinging_strike_23 / leauge_up_total_23\n",
    "\n",
    "leauge_up_swinging_strike_24 = leauge_up_24[leauge_up_24['description'].isin(csw)].shape[0]\n",
    "leauge_up_total_24 = leauge_up_24.shape[0]\n",
    "percent_swinging_strike_leauge_up_24 = 100 * leauge_up_swinging_strike_24 / leauge_up_total_24\n",
    "\n",
    "hayes_up_swinging_strike_23 = pitch_up_23[pitch_up_23['description'].isin(csw)].shape[0]\n",
    "hayes_up_total_23 = pitch_up_23.shape[0]\n",
    "hayes_swinging_strike_leauge_up_23 = 100 * hayes_up_swinging_strike_23 / hayes_up_total_23\n",
    "\n",
    "hayes_up_swinging_strike_24 = pitch_up_24[pitch_up_24['description'].isin(csw)].shape[0]\n",
    "hayes_up_total_24 = pitch_up_24.shape[0]\n",
    "hayes_swinging_strike_leauge_up_24 = 100 * hayes_up_swinging_strike_24 / hayes_up_total_24\n"
   ]
  },
  {
   "cell_type": "code",
   "execution_count": 45,
   "id": "db08ab03",
   "metadata": {},
   "outputs": [
    {
     "name": "stdout",
     "output_type": "stream",
     "text": [
      "Percent of pitches in league up 23 that are swinging strikes: 7.79%\n",
      "Percent of pitches in Hayes up 23 that are swinging strikes: 10.32%\n",
      "Percent of pitches in league up 24 that are swinging strikes: 7.79%\n",
      "Percent of pitches in Hayes up 24 that are swinging strikes: 12.98%\n"
     ]
    }
   ],
   "source": [
    "print(f\"Percent of pitches in league up 23 that are swinging strikes: {percent_swinging_strike_leauge_up_23:.2f}%\")\n",
    "print(f\"Percent of pitches in Hayes up 23 that are swinging strikes: {hayes_swinging_strike_leauge_up_23:.2f}%\")\n",
    "print(f\"Percent of pitches in league up 24 that are swinging strikes: {percent_swinging_strike_leauge_up_24:.2f}%\")\n",
    "print(f\"Percent of pitches in Hayes up 24 that are swinging strikes: {hayes_swinging_strike_leauge_up_24:.2f}%\")"
   ]
  },
  {
   "cell_type": "code",
   "execution_count": 46,
   "id": "adc54c61",
   "metadata": {},
   "outputs": [
    {
     "name": "stdout",
     "output_type": "stream",
     "text": [
      "Hayes 2023 attack direction: 13.39760606060606\n",
      "Hayes 2024 attack direction: 19.897171874999998\n",
      "League 2023 attack direction: 12.123289836207833\n",
      "League 2024 attack direction: 11.90732384809594\n"
     ]
    }
   ],
   "source": [
    "# Hayes\n",
    "mean_attack_hayes23 = pitch_up_23['attack_direction'].mean()\n",
    "mean_attack_hayes24 = pitch_up_24['attack_direction'].mean()\n",
    "print(\"Hayes 2023 attack direction:\", mean_attack_hayes23)\n",
    "print(\"Hayes 2024 attack direction:\", mean_attack_hayes24)\n",
    "\n",
    "# League\n",
    "mean_attack_23 = leauge_up_23['attack_direction'].mean()\n",
    "mean_attack_24 = leauge_up_24['attack_direction'].mean()\n",
    "print(\"League 2023 attack direction:\", mean_attack_23)\n",
    "print(\"League 2024 attack direction:\", mean_attack_24)\n",
    "\n"
   ]
  },
  {
   "cell_type": "code",
   "execution_count": 47,
   "id": "022a096c",
   "metadata": {},
   "outputs": [
    {
     "name": "stdout",
     "output_type": "stream",
     "text": [
      "Hayes 2023 attack angle: 2.7609090909090908\n",
      "Hayes 2024 attack angle: 0.25325000000000003\n",
      "Leauge 2023 attack angle: 3.7821942726976894\n",
      "Leauge 2024 attack angle: 3.7909951083526194\n"
     ]
    }
   ],
   "source": [
    "# Hayes\n",
    "mean_attack_angle_hayes23 = pitch_up_23['attack_angle'].mean()\n",
    "mean_attack_angle_hayes24= pitch_up_24['attack_angle'].mean()\n",
    "print(\"Hayes 2023 attack angle:\", mean_attack_angle_hayes23)\n",
    "print(\"Hayes 2024 attack angle:\", mean_attack_angle_hayes24)\n",
    "\n",
    "# 2024\n",
    "mean_attack_angle_23 = leauge_up_23['attack_angle'].mean()\n",
    "mean_attack_angle_24= leauge_up_24['attack_angle'].mean()\n",
    "print(\"Leauge 2023 attack angle:\", mean_attack_angle_23)\n",
    "print(\"Leauge 2024 attack angle:\", mean_attack_angle_24)"
   ]
  },
  {
   "cell_type": "code",
   "execution_count": 48,
   "id": "8fda3204",
   "metadata": {},
   "outputs": [],
   "source": [
    "csw = ['swinging_strike', 'foul', 'hit_into_play', 'swinging_strike_blocked']\n",
    "\n",
    "leauge_up_swinging_strike_23 = leauge_up_23[leauge_up_23['description'].isin(csw)].shape[0]\n",
    "leauge_up_total_23 = leauge_up_23.shape[0]\n",
    "percent_swinging_strike_leauge_up_23 = 100 * leauge_up_swinging_strike_23 / leauge_up_total_23\n",
    "\n",
    "leauge_up_swinging_strike_24 = leauge_up_24[leauge_up_24['description'].isin(csw)].shape[0]\n",
    "leauge_up_total_24 = leauge_up_24.shape[0]\n",
    "percent_swinging_strike_leauge_up_24 = 100 * leauge_up_swinging_strike_24 / leauge_up_total_24\n",
    "\n",
    "hayes_up_swinging_strike_23 = pitch_up_23[pitch_up_23['description'].isin(csw)].shape[0]\n",
    "hayes_up_total_23 = pitch_up_23.shape[0]\n",
    "hayes_swinging_strike_leauge_up_23 = 100 * hayes_up_swinging_strike_23 / hayes_up_total_23\n",
    "\n",
    "hayes_up_swinging_strike_24 = pitch_up_24[pitch_up_24['description'].isin(csw)].shape[0]\n",
    "hayes_up_total_24 = pitch_up_24.shape[0]\n",
    "hayes_swinging_strike_leauge_up_24 = 100 * hayes_up_swinging_strike_24 / hayes_up_total_24"
   ]
  },
  {
   "cell_type": "code",
   "execution_count": 49,
   "id": "dcd21772",
   "metadata": {},
   "outputs": [
    {
     "name": "stdout",
     "output_type": "stream",
     "text": [
      "Percent of pitches in league up 23 that are swung at: 24.93%\n",
      "Percent of pitches in Hayes up 23 that are swinging strikes: 57.14%\n",
      "Percent of pitches in league up 24 that are swinging strikes: 25.14%\n",
      "Percent of pitches in Hayes up 24 that are swinging strikes: 54.96%\n"
     ]
    }
   ],
   "source": [
    "print(f\"Percent of pitches in league up 23 that are swung at: {percent_swinging_strike_leauge_up_23:.2f}%\")\n",
    "print(f\"Percent of pitches in Hayes up 23 that are swinging strikes: {hayes_swinging_strike_leauge_up_23:.2f}%\")\n",
    "print(f\"Percent of pitches in league up 24 that are swinging strikes: {percent_swinging_strike_leauge_up_24:.2f}%\")\n",
    "print(f\"Percent of pitches in Hayes up 24 that are swinging strikes: {hayes_swinging_strike_leauge_up_24:.2f}%\")"
   ]
  },
  {
   "cell_type": "markdown",
   "id": "9d05c11e",
   "metadata": {},
   "source": [
    "#### Wrong Assumption"
   ]
  },
  {
   "cell_type": "code",
   "execution_count": 50,
   "id": "9d33a34d",
   "metadata": {},
   "outputs": [
    {
     "name": "stdout",
     "output_type": "stream",
     "text": [
      "2023 League RHB: 3.97% of all pitches are sliders in zones 6, 8, 9\n",
      "2023 Hayes: 3.40% of sliders in zones 6, 8, 9\n"
     ]
    }
   ],
   "source": [
    "# Zones of interest\n",
    "zones = [6, 8, 9]\n",
    "\n",
    "# Hayes: percent of all pitches that are sliders in zones 6, 8, 9 (2023)\n",
    "hayes_23_total = pitch[pitch['season'] == 2023].shape[0]\n",
    "hayes_23_sliders_in_zones = pitch[(pitch['season'] == 2023) & (pitch['pitch_abv'] == 'SL') & (pitch['statcast_zone'].isin(zones))].shape[0]\n",
    "hayes_23_pct = 100 * hayes_23_sliders_in_zones / hayes_23_total if hayes_23_total > 0 else float('nan')\n",
    "\n",
    "league_23_rhb = full_pitch[(full_pitch['season'] == 2023) & (full_pitch['b_stand'] == 'R')]\n",
    "total_23_rhb = league_23_rhb.shape[0]\n",
    "sliders_23_rhb_in_zones = league_23_rhb[(league_23_rhb['pitch_abv'] == 'SL') & (league_23_rhb['statcast_zone'].isin(zones))].shape[0]\n",
    "pct_23_rhb = 100 * sliders_23_rhb_in_zones / total_23_rhb if total_23_rhb > 0 else float('nan')\n",
    "print(f\"2023 League RHB: {pct_23_rhb:.2f}% of all pitches are sliders in zones 6, 8, 9\")\n",
    "print(f\"2023 Hayes: {hayes_23_pct:.2f}% of sliders in zones 6, 8, 9\")"
   ]
  },
  {
   "cell_type": "code",
   "execution_count": 51,
   "id": "ca1633c5",
   "metadata": {},
   "outputs": [
    {
     "name": "stdout",
     "output_type": "stream",
     "text": [
      "2024 League RHB: 3.90% of all pitches are sliders in zones 6, 8, 9\n",
      "2024 Hayes: 3.81% of sliders in zones 6, 8, 9\n"
     ]
    }
   ],
   "source": [
    "# Hayes: percent of all pitches that are sliders in zones 6, 8, 9 (2024)\n",
    "hayes_24_total = pitch[pitch['season'] == 2024].shape[0]\n",
    "hayes_24_sliders_in_zones = pitch[(pitch['season'] == 2024) & (pitch['pitch_abv'] == 'SL') & (pitch['statcast_zone'].isin(zones))].shape[0]\n",
    "hayes_24_pct = 100 * hayes_24_sliders_in_zones / hayes_24_total if hayes_24_total > 0 else float('nan')\n",
    "\n",
    "league_24_rhb = full_pitch[(full_pitch['season'] == 2024) & (full_pitch['b_stand'] == 'R')]\n",
    "total_24_rhb = league_24_rhb.shape[0]\n",
    "sliders_24_rhb_in_zones = league_24_rhb[(league_24_rhb['pitch_abv'] == 'SL') & (league_24_rhb['statcast_zone'].isin(zones))].shape[0]\n",
    "pct_24_rhb = 100 * sliders_24_rhb_in_zones / total_24_rhb if total_24_rhb > 0 else float('nan')\n",
    "\n",
    "print(f\"2024 League RHB: {pct_24_rhb:.2f}% of all pitches are sliders in zones 6, 8, 9\")\n",
    "print(f\"2024 Hayes: {hayes_24_pct:.2f}% of sliders in zones 6, 8, 9\")\n"
   ]
  }
 ],
 "metadata": {
  "kernelspec": {
   "display_name": "base",
   "language": "python",
   "name": "python3"
  },
  "language_info": {
   "codemirror_mode": {
    "name": "ipython",
    "version": 3
   },
   "file_extension": ".py",
   "mimetype": "text/x-python",
   "name": "python",
   "nbconvert_exporter": "python",
   "pygments_lexer": "ipython3",
   "version": "3.12.7"
  }
 },
 "nbformat": 4,
 "nbformat_minor": 5
}
