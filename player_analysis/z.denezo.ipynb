{
 "cells": [
  {
   "cell_type": "markdown",
   "id": "01c107eb",
   "metadata": {},
   "source": [
    "Zach Denezo"
   ]
  },
  {
   "cell_type": "code",
   "execution_count": 14,
   "id": "59c038c4",
   "metadata": {},
   "outputs": [],
   "source": [
    "import pandas as pd\n",
    "import os\n",
    "\n",
    "os.chdir('C:/Users/dalto/OneDrive/Pictures/Documents/Projects/Coding Projects/Hitting Analysis/data')"
   ]
  },
  {
   "cell_type": "code",
   "execution_count": 15,
   "id": "6682f105",
   "metadata": {},
   "outputs": [],
   "source": [
    "pitch = pd.read_csv('./full/pitch_25_625.csv')"
   ]
  },
  {
   "cell_type": "code",
   "execution_count": 16,
   "id": "88784154",
   "metadata": {},
   "outputs": [],
   "source": [
    "pitch['pos_strike_ball'] = pitch.apply(\n",
    "    lambda row: 'strike' if (row['sz_bot'] <= row['plate_vert'] <= row['sz_top'] and -0.833333 <= row['plate_horz'] <= 0.83333) else 'ball',\n",
    "    axis=1\n",
    ")"
   ]
  },
  {
   "cell_type": "code",
   "execution_count": 17,
   "id": "f301dba2",
   "metadata": {},
   "outputs": [],
   "source": [
    "dezenzo = pitch[pitch['batter'] == 'zach dezenzo']"
   ]
  },
  {
   "cell_type": "code",
   "execution_count": 18,
   "id": "994426ac",
   "metadata": {},
   "outputs": [
    {
     "name": "stdout",
     "output_type": "stream",
     "text": [
      "2.48% of pitches are called strikes but not in the strike zone.\n"
     ]
    }
   ],
   "source": [
    "# % of pitches where description == 'called_strike' and pos_strike_ball != 'strike'\n",
    "mask = (pitch['description'] == 'called_strike') & (pitch['pos_strike_ball'] != 'strike')\n",
    "percent = mask.sum() / len(pitch) * 100\n",
    "print(f\"{percent:.2f}% of pitches are called strikes but not in the strike zone.\")"
   ]
  },
  {
   "cell_type": "code",
   "execution_count": 20,
   "id": "2ef458e2",
   "metadata": {},
   "outputs": [
    {
     "name": "stdout",
     "output_type": "stream",
     "text": [
      "3.29% of pitches are called strikes but not in the strike zone.\n"
     ]
    }
   ],
   "source": [
    "# % of pitches where description == 'called_strike' and pos_strike_ball != 'strike'\n",
    "mask = (dezenzo['description'] == 'called_strike') & (dezenzo['pos_strike_ball'] != 'strike')\n",
    "percent = mask.sum() / len(dezenzo) * 100\n",
    "print(f\"{percent:.2f}% of pitches are called strikes but not in the strike zone.\")"
   ]
  }
 ],
 "metadata": {
  "kernelspec": {
   "display_name": "base",
   "language": "python",
   "name": "python3"
  },
  "language_info": {
   "codemirror_mode": {
    "name": "ipython",
    "version": 3
   },
   "file_extension": ".py",
   "mimetype": "text/x-python",
   "name": "python",
   "nbconvert_exporter": "python",
   "pygments_lexer": "ipython3",
   "version": "3.12.7"
  }
 },
 "nbformat": 4,
 "nbformat_minor": 5
}
