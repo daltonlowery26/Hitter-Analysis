{
 "cells": [
  {
   "cell_type": "markdown",
   "id": "01c107eb",
   "metadata": {},
   "source": [
    "Zach Denezo"
   ]
  },
  {
   "cell_type": "code",
   "execution_count": 18,
   "id": "59c038c4",
   "metadata": {},
   "outputs": [],
   "source": [
    "import pandas as pd\n",
    "import os\n",
    "\n",
    "os.chdir('C:/Users/dalto/OneDrive/Pictures/Documents/Projects/Coding Projects/Hitting Analysis/data')"
   ]
  },
  {
   "cell_type": "code",
   "execution_count": 19,
   "id": "6682f105",
   "metadata": {},
   "outputs": [],
   "source": [
    "pitch = pd.read_csv('./full/pitch_25_625.csv')"
   ]
  },
  {
   "cell_type": "code",
   "execution_count": 20,
   "id": "88784154",
   "metadata": {},
   "outputs": [],
   "source": [
    "pitch['pos_strike_ball'] = pitch.apply(\n",
    "    lambda row: 'strike' if (row['sz_bot'] <= row['plate_vert'] <= row['sz_top'] and -0.833333 <= row['plate_horz'] <= 0.83333) else 'ball',\n",
    "    axis=1\n",
    ")"
   ]
  },
  {
   "cell_type": "code",
   "execution_count": 21,
   "id": "f301dba2",
   "metadata": {},
   "outputs": [],
   "source": [
    "dezenzo = pitch[pitch['batter'] == 'zach dezenzo']"
   ]
  },
  {
   "cell_type": "code",
   "execution_count": 22,
   "id": "994426ac",
   "metadata": {},
   "outputs": [
    {
     "name": "stdout",
     "output_type": "stream",
     "text": [
      "2.48% of pitches are called strikes but not in the strike zone.\n"
     ]
    }
   ],
   "source": [
    "# % of pitches where description == 'called_strike' and pos_strike_ball != 'strike'\n",
    "mask = (pitch['description'] == 'called_strike') & (pitch['pos_strike_ball'] != 'strike')\n",
    "percent = mask.sum() / len(pitch) * 100\n",
    "print(f\"{percent:.2f}% of pitches are called strikes but not in the strike zone.\")"
   ]
  },
  {
   "cell_type": "code",
   "execution_count": 23,
   "id": "2ef458e2",
   "metadata": {},
   "outputs": [
    {
     "name": "stdout",
     "output_type": "stream",
     "text": [
      "3.29% of pitches are called strikes but not in the strike zone.\n"
     ]
    }
   ],
   "source": [
    "# % of pitches where description == 'called_strike' and pos_strike_ball != 'strike'\n",
    "mask = (dezenzo['description'] == 'called_strike') & (dezenzo['pos_strike_ball'] != 'strike')\n",
    "percent = mask.sum() / len(dezenzo) * 100\n",
    "print(f\"{percent:.2f}% of pitches are called strikes but not in the strike zone.\")"
   ]
  },
  {
   "cell_type": "markdown",
   "id": "7927a622",
   "metadata": {},
   "source": [
    "XWOBA Change"
   ]
  },
  {
   "cell_type": "code",
   "execution_count": 24,
   "id": "8d151eb0",
   "metadata": {},
   "outputs": [
    {
     "name": "stdout",
     "output_type": "stream",
     "text": [
      "37\n",
      "game_date                                   517\n",
      "pitch_type                                  517\n",
      "pitch_name                                  517\n",
      "batter                                      517\n",
      "pitcher                                     517\n",
      "description                                 517\n",
      "zone                                        517\n",
      "xwoba                                       109\n",
      "b_stands                                    517\n",
      "p_throws                                    517\n",
      "type                                        517\n",
      "balls                                       517\n",
      "strikes                                     517\n",
      "plate_horz                                  517\n",
      "plate_vert                                  517\n",
      "release_speed                               517\n",
      "sz_top                                      517\n",
      "sz_bot                                      517\n",
      "release_extension                           517\n",
      "arm_angle                                   480\n",
      "release_spin_rate                           517\n",
      "n_thruorder_pitcher                         517\n",
      "bat_speed                                   211\n",
      "swing_length                                211\n",
      "swing_path_tilt                             211\n",
      "attack_angle                                211\n",
      "intercept_ball_minus_batter_pos_y_inches    210\n",
      "intercept_ball_minus_batter_pos_x_inches    210\n",
      "pos_strike_ball                             517\n",
      "dtype: int64\n"
     ]
    }
   ],
   "source": [
    "print((dezenzo['xwoba'] == 0).sum())\n",
    "print(dezenzo.notna().sum())\n",
    "# 37/109 == 33.9% 33/109 == 30% strikeout rate, change four rows"
   ]
  },
  {
   "cell_type": "code",
   "execution_count": 25,
   "id": "78755a58",
   "metadata": {},
   "outputs": [
    {
     "name": "stdout",
     "output_type": "stream",
     "text": [
      "0.34618821100917435\n"
     ]
    }
   ],
   "source": [
    "import numpy as np\n",
    "\n",
    "percent_zero_xwoba = (dezenzo['xwoba'] == 0).sum() / dezenzo['xwoba'].notna().sum() * 100\n",
    "zero_xwoba_idx = dezenzo[dezenzo['xwoba'] == 0].index\n",
    "n_to_change = 4\n",
    "dezenzo_k = dezenzo\n",
    "if n_to_change > 0:\n",
    "    idx_to_change = np.random.choice(zero_xwoba_idx, n_to_change, replace=False)\n",
    "    dezenzo_k.loc[idx_to_change, 'xwoba'] = 0.463\n",
    "\n",
    "dezenzo_xwoba = dezenzo_k['xwoba'].mean()\n",
    "print(dezenzo_xwoba)"
   ]
  }
 ],
 "metadata": {
  "kernelspec": {
   "display_name": "base",
   "language": "python",
   "name": "python3"
  },
  "language_info": {
   "codemirror_mode": {
    "name": "ipython",
    "version": 3
   },
   "file_extension": ".py",
   "mimetype": "text/x-python",
   "name": "python",
   "nbconvert_exporter": "python",
   "pygments_lexer": "ipython3",
   "version": "3.12.7"
  }
 },
 "nbformat": 4,
 "nbformat_minor": 5
}
