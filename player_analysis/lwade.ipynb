{
 "cells": [
  {
   "cell_type": "markdown",
   "id": "a7bafadf",
   "metadata": {},
   "source": [
    "#### Lamonte Wade"
   ]
  },
  {
   "cell_type": "markdown",
   "id": "0d5c05e9",
   "metadata": {},
   "source": [
    "##### Inital Thoughts Based on Surface Level Stats\n",
    "- Bat Speed is down, but I am not sure this is a product of bat speed potential being down. He is still reaching max velos not too far off his peak, I think he is just more lost at the plate and thus not making as confident as swings\n",
    "- He cant hit the fastball which is the source of his issues \n",
    "- His launch angle has also gone insane, and this is also corroberated by him perpetually being under the ball\n",
    "- My guess is that he is make much worse swing decisons for some reason, and that also a mechcinal change focused on him getting more flyballs has lead to him being under\n",
    "- also seen in his pop up rate tripling, useless batted ball type\n",
    "- making much worse decisons on breaking balls, one of the 10 biggest regressors in terms of breaking ball decison making"
   ]
  },
  {
   "cell_type": "markdown",
   "id": "f9019417",
   "metadata": {},
   "source": [
    "#### Exploring this with data"
   ]
  },
  {
   "cell_type": "code",
   "execution_count": 2,
   "id": "479a543a",
   "metadata": {},
   "outputs": [],
   "source": [
    "import pandas as pd\n",
    "import os\n",
    "\n",
    "os.chdir('C:/Users/dalto/OneDrive/Pictures/Documents/Projects/Coding Projects/Biomechanics/data/')\n",
    "\n",
    "pitch_level_612 = pd.read_csv('./full/pitch_25.csv')\n",
    "swing_value = pd.read_csv('./full/swing_values_25.csv').drop(columns=['Unnamed: 0'])"
   ]
  },
  {
   "cell_type": "code",
   "execution_count": null,
   "id": "89ead489",
   "metadata": {},
   "outputs": [],
   "source": []
  }
 ],
 "metadata": {
  "kernelspec": {
   "display_name": "base",
   "language": "python",
   "name": "python3"
  },
  "language_info": {
   "codemirror_mode": {
    "name": "ipython",
    "version": 3
   },
   "file_extension": ".py",
   "mimetype": "text/x-python",
   "name": "python",
   "nbconvert_exporter": "python",
   "pygments_lexer": "ipython3",
   "version": "3.12.7"
  }
 },
 "nbformat": 4,
 "nbformat_minor": 5
}
