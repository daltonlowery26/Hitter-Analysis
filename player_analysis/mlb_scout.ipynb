{
 "cells": [
  {
   "cell_type": "markdown",
   "id": "0aaab643",
   "metadata": {},
   "source": [
    "#### Random Players I Like"
   ]
  },
  {
   "cell_type": "code",
   "execution_count": 7,
   "id": "8b758ead",
   "metadata": {},
   "outputs": [],
   "source": [
    "import pandas as pd\n",
    "import os\n",
    "\n",
    "os.chdir('C:/Users/dalto/OneDrive/Pictures/Documents/Projects/Coding Projects/Biomechanics/data/')\n",
    "\n",
    "pitch_level_612 = pd.read_csv('./full/pitch_25.csv')\n",
    "swing_value = pd.read_csv('./full/swing_values_25.csv').drop(columns=['Unnamed: 0'])\n",
    "full = pd.read_csv('./full/merged_data.csv')"
   ]
  },
  {
   "cell_type": "markdown",
   "id": "3c5a642b",
   "metadata": {},
   "source": [
    "#### Random Players I like \n",
    "<br>\n",
    "Zach Denzenzo\n",
    "<br>\n",
    "<br>\n",
    "- On injured list right now, but makes good swing decisons combained with quality batspeed. His high strikeout rate is a product of a high wiff rate and subpar inzone contact rate. I do not think he is a true talenet 34% strikeout rate guy.\n",
    "<br>\n",
    "- I like his swing, has the ability to generate great power with his high swing tilt while still mantaining quality batspeed\n",
    "<br>\n",
    "- Pulls the ball enough\n",
    "<br>\n",
    "-Ran good enough zone contact rates in the minors and I think withh time he can get back closer to that level bringing his strikeout rate down\n",
    "<br>\n",
    "- Young and Good enough witht the glove  \n",
    "<br>\n",
    "<br>\n",
    "Justyn-Henry Malloy\n",
    "<br>\n",
    "<br>\n",
    "- In triple A again, but when he was in the majors demonstarted super solid swing decisons. He cant hit the low pitch and whiffs a ton, he is getting exposed by breaking balls.\n",
    "<br>\n",
    "- However has shown potential for a solid approach and with a few tweaks, combined with aboce average baserunning and an average glove could be an intresting big leauge product \n",
    "<br>\n",
    "- I would flatten his swing a bit and not competely sell out for flyballs. He could become an onbase threat and also doesnt have the raw power to captalize on this profile.\n",
    "<br>\n",
    "- His swing path is what causes him to get comepletly exposed by breaking balls, he has demonstarted contact ability in the minors and has started to shown in the majors. \n",
    "<br>\n",
    "- He hits way to many warning track flyouts, if he had more raw batspeed and power this profile could work, however lower his swing path and focus more on gap to gap power and reap the benefits of swing decisons\n",
    "<br>\n",
    "<br>\n",
    "Jesus Sanchez\n",
    "<br>\n",
    "<br>\n",
    "- good swing decisons\n",
    "<br>\n",
    "- great batspeed\n",
    "<br>\n",
    "- good enough contact rate\n",
    "<br>\n",
    "- demonstares plus max evs \n",
    "<br>\n",
    "- batted ball profile holds you back from being elite\n",
    "<br>\n",
    "- change his batpath to create more flyballs, greater tilt\n",
    "<br>\n",
    "- he seems to have a good sense of timing, the extra power would offset the likley increase in power\n",
    "<br>\n",
    "- compotent in the field and basepaths\n",
    "<br>\n",
    "- problem is that he doesnt reach the optimial launch angle enough\n",
    "<br>\n",
    "- he gets on top of the ball a lot which results, in a lot of groundballs\n",
    "<br>\n",
    "-likely this is because he is super far out in front 8.4 ft in front of the plate, so to stay in the contact window he has to declerate his wrists and hands which causes him to have to slow down and then reacclerate and roll over on pitches \n",
    "\n",
    "\n"
   ]
  },
  {
   "cell_type": "markdown",
   "id": "5bcb99be",
   "metadata": {},
   "source": [
    "#### Year to Year Correaltion of Stats "
   ]
  },
  {
   "cell_type": "code",
   "execution_count": 42,
   "id": "eff33e0e",
   "metadata": {},
   "outputs": [],
   "source": [
    "full_15_24 = full.copy()"
   ]
  },
  {
   "cell_type": "code",
   "execution_count": 43,
   "id": "bc188504",
   "metadata": {},
   "outputs": [],
   "source": [
    "full_15_24 = full_15_24[full_15_24['pa'] > 100]\n",
    "full_15_24 = full_15_24.sort_values(by=['name', 'season'])\n",
    "player_diff = full_15_24[['name', 'season', 'ev50', 'z_contact_pct', 'chase_value']]\n",
    "player_diff = player_diff.dropna()"
   ]
  },
  {
   "cell_type": "code",
   "execution_count": 44,
   "id": "7813fd82",
   "metadata": {},
   "outputs": [],
   "source": [
    "player_diff['ev50_next'] = player_diff.groupby('name')['ev50'].shift(-1)\n",
    "player_diff['zcontact_next'] = player_diff.groupby('name')['z_contact_pct'].shift(-1)\n",
    "player_diff['chase_value_next'] = player_diff.groupby('name')['chase_value'].shift(-1)\n",
    "player_diff = player_diff.dropna()"
   ]
  },
  {
   "cell_type": "code",
   "execution_count": 45,
   "id": "6e47e472",
   "metadata": {},
   "outputs": [
    {
     "name": "stdout",
     "output_type": "stream",
     "text": [
      "corr between ev50 and next 0.8107050326924321\n",
      "corr between zcontact and next 0.7249650783860911\n",
      "corr between overall value and next 0.6644749891536521\n"
     ]
    }
   ],
   "source": [
    "print(f\"corr between ev50 and next {player_diff['ev50'].corr(player_diff['ev50_next'])}\")\n",
    "print(f\"corr between zcontact and next {player_diff['z_contact_pct'].corr(player_diff['zcontact_next'])}\")\n",
    "print(f\"corr between overall value and next {player_diff['chase_value'].corr(player_diff['chase_value_next'])}\")"
   ]
  },
  {
   "cell_type": "markdown",
   "id": "58c8fcf6",
   "metadata": {},
   "source": [
    "#### Jesus Sanchez"
   ]
  },
  {
   "cell_type": "markdown",
   "id": "66d80d13",
   "metadata": {},
   "source": [
    "- find std of LA, std of attack angle, attack angle on low pitches, std on swing tilt"
   ]
  }
 ],
 "metadata": {
  "kernelspec": {
   "display_name": "base",
   "language": "python",
   "name": "python3"
  },
  "language_info": {
   "codemirror_mode": {
    "name": "ipython",
    "version": 3
   },
   "file_extension": ".py",
   "mimetype": "text/x-python",
   "name": "python",
   "nbconvert_exporter": "python",
   "pygments_lexer": "ipython3",
   "version": "3.12.7"
  }
 },
 "nbformat": 4,
 "nbformat_minor": 5
}
