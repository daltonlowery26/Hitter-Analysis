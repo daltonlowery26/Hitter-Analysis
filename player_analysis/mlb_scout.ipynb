{
 "cells": [
  {
   "cell_type": "markdown",
   "id": "0aaab643",
   "metadata": {},
   "source": [
    "#### Random Players I Like"
   ]
  },
  {
   "cell_type": "code",
   "execution_count": 2,
   "id": "8b758ead",
   "metadata": {},
   "outputs": [],
   "source": [
    "import pandas as pd\n",
    "import os\n",
    "\n",
    "os.chdir('C:/Users/dalto/OneDrive/Pictures/Documents/Projects/Coding Projects/Hitting Analysis/data')\n",
    "\n",
    "pitch_level_612 = pd.read_csv('./full/pitch_25.csv')\n",
    "swing_value = pd.read_csv('./full/swing_values_25.csv').drop(columns=['Unnamed: 0'])\n",
    "full = pd.read_csv('./full/merged_data.csv')"
   ]
  },
  {
   "cell_type": "markdown",
   "id": "3c5a642b",
   "metadata": {},
   "source": [
    "#### Random Players I like \n",
    "<br>\n",
    "Zach Denzenzo\n",
    "<br>\n",
    "<br>\n",
    "- On injured list right now, but makes good swing decisons combained with quality batspeed. His high strikeout rate is a product of a high wiff rate and subpar inzone contact rate. I do not think he is a true talenet 34% strikeout rate guy.\n",
    "<br>\n",
    "- I like his swing, has the ability to generate great power with his high swing tilt while still mantaining quality batspeed\n",
    "<br>\n",
    "- Pulls the ball enough\n",
    "<br>\n",
    "-Ran good enough zone contact rates in the minors and I think withh time he can get back closer to that level bringing his strikeout rate down\n",
    "<br>\n",
    "- Young and Good enough witht the glove  \n",
    "<br>\n",
    "<br>\n",
    "Justyn-Henry Malloy\n",
    "<br>\n",
    "<br>\n",
    "- In triple A again, but when he was in the majors demonstarted super solid swing decisons. He cant hit the low pitch and whiffs a ton, he is getting exposed by breaking balls.\n",
    "<br>\n",
    "- However has shown potential for a solid approach and with a few tweaks, combined with aboce average baserunning and an average glove could be an intresting big leauge product \n",
    "<br>\n",
    "- I would flatten his swing a bit and not competely sell out for flyballs. He could become an onbase threat and also doesnt have the raw power to captalize on this profile.\n",
    "<br>\n",
    "- His swing path is what causes him to get comepletly exposed by breaking balls, he has demonstarted contact ability in the minors and has started to shown in the majors. \n",
    "<br>\n",
    "- He hits way to many warning track flyouts, if he had more raw batspeed and power this profile could work, however lower his swing path and focus more on gap to gap power and reap the benefits of swing decisons\n",
    "<br>\n",
    "<br>\n",
    "Jesus Sanchez\n",
    "<br>\n",
    "<br>\n",
    "- good swing decisons\n",
    "<br>\n",
    "- great batspeed\n",
    "<br>\n",
    "- good enough contact rate\n",
    "<br>\n",
    "- demonstares plus max evs \n",
    "<br>\n",
    "- batted ball profile holds you back from being elite\n",
    "<br>\n",
    "- change his batpath to create more flyballs, greater tilt\n",
    "<br>\n",
    "- he seems to have a good sense of timing, the extra power would offset the likley increase in power\n",
    "<br>\n",
    "- compotent in the field and basepaths\n",
    "<br>\n",
    "- problem is that he doesnt reach the optimial launch angle enough\n",
    "<br>\n",
    "- he gets on top of the ball a lot which results, in a lot of groundballs\n",
    "<br>\n",
    "-likely this is because he is super far out in front 8.4 ft in front of the plate, so to stay in the contact window he has to declerate his wrists and hands which causes him to have to slow down and then reacclerate and roll over on pitches \n",
    "\n",
    "\n"
   ]
  },
  {
   "cell_type": "markdown",
   "id": "5bcb99be",
   "metadata": {},
   "source": [
    "#### Year to Year Correaltion of Stats "
   ]
  },
  {
   "cell_type": "markdown",
   "id": "58c8fcf6",
   "metadata": {},
   "source": [
    "#### Jesus Sanchez"
   ]
  },
  {
   "cell_type": "markdown",
   "id": "66d80d13",
   "metadata": {},
   "source": [
    "- find std of LA, std of attack angle, attack angle on low pitches, std on swing tilt"
   ]
  },
  {
   "cell_type": "code",
   "execution_count": 3,
   "id": "b65e32ff",
   "metadata": {},
   "outputs": [],
   "source": [
    "jesus = pitch_level_612[pitch_level_612['batter'] == 'jesus sanchez']\n",
    "shoei = pitch_level_612[pitch_level_612['batter'] == 'jesus sanchez']"
   ]
  },
  {
   "cell_type": "markdown",
   "id": "597af79a",
   "metadata": {},
   "source": [
    "leauge average attack angle"
   ]
  },
  {
   "cell_type": "code",
   "execution_count": 4,
   "id": "4e08fd01",
   "metadata": {},
   "outputs": [
    {
     "name": "stdout",
     "output_type": "stream",
     "text": [
      "zone\n",
      "1.0      3.382257\n",
      "2.0      5.011548\n",
      "3.0      5.955931\n",
      "4.0      6.245603\n",
      "5.0      7.391778\n",
      "6.0      8.611147\n",
      "7.0     10.857172\n",
      "8.0     12.194078\n",
      "9.0     14.021063\n",
      "11.0     3.403959\n",
      "12.0     4.945407\n",
      "13.0    13.135416\n",
      "14.0    18.073989\n",
      "Name: attack_angle, dtype: float64\n"
     ]
    }
   ],
   "source": [
    "l_attack = pitch_level_612[pitch_level_612['b_stands'] == 'L']\n",
    "l_attack = l_attack.groupby('zone')['attack_angle'].mean()\n",
    "print(l_attack)"
   ]
  },
  {
   "cell_type": "markdown",
   "id": "457a27cb",
   "metadata": {},
   "source": [
    "sanchez attack angle by zone"
   ]
  },
  {
   "cell_type": "code",
   "execution_count": 5,
   "id": "d8073144",
   "metadata": {},
   "outputs": [
    {
     "name": "stdout",
     "output_type": "stream",
     "text": [
      "zone\n",
      "1.0      0.748780\n",
      "2.0      1.847518\n",
      "3.0      3.858398\n",
      "4.0      2.496547\n",
      "5.0      3.201410\n",
      "6.0      3.683740\n",
      "7.0      8.146895\n",
      "8.0      8.058301\n",
      "9.0      9.155029\n",
      "11.0    -1.007090\n",
      "12.0     3.859253\n",
      "13.0    10.148536\n",
      "14.0    13.878938\n",
      "Name: attack_angle, dtype: float64\n"
     ]
    }
   ],
   "source": [
    "j_attack = jesus.groupby('zone')['attack_angle'].mean()\n",
    "print(j_attack)"
   ]
  },
  {
   "cell_type": "markdown",
   "id": "af35e823",
   "metadata": {},
   "source": [
    "diffrence"
   ]
  },
  {
   "cell_type": "code",
   "execution_count": 6,
   "id": "06fc00f5",
   "metadata": {},
   "outputs": [
    {
     "name": "stdout",
     "output_type": "stream",
     "text": [
      "zone\n",
      "1.0    -2.633477\n",
      "2.0    -3.164030\n",
      "3.0    -2.097533\n",
      "4.0    -3.749055\n",
      "5.0    -4.190368\n",
      "6.0    -4.927406\n",
      "7.0    -2.710277\n",
      "8.0    -4.135777\n",
      "9.0    -4.866034\n",
      "11.0   -4.411049\n",
      "12.0   -1.086154\n",
      "13.0   -2.986880\n",
      "14.0   -4.195051\n",
      "Name: attack_angle, dtype: float64\n"
     ]
    }
   ],
   "source": [
    "print(j_attack - l_attack)"
   ]
  },
  {
   "cell_type": "markdown",
   "id": "f6c26868",
   "metadata": {},
   "source": [
    "woba on pitches inside"
   ]
  },
  {
   "cell_type": "code",
   "execution_count": 7,
   "id": "21c4f0ba",
   "metadata": {},
   "outputs": [],
   "source": [
    "jesus_wobacon = jesus[(jesus['zone'] ==  3) | (jesus['zone'] ==  6) | (jesus['zone'] ==  9)]"
   ]
  },
  {
   "cell_type": "code",
   "execution_count": 11,
   "id": "cdc1e1db",
   "metadata": {},
   "outputs": [],
   "source": [
    "l_wobacon = pitch_level_612[(pitch_level_612['zone'] ==  3) | (pitch_level_612['zone'] ==  6) | (pitch_level_612['zone'] ==  9)]\n",
    "l_wobacon = l_wobacon[l_wobacon['b_stands'] == 'L']"
   ]
  },
  {
   "cell_type": "code",
   "execution_count": 12,
   "id": "74d7637d",
   "metadata": {},
   "outputs": [
    {
     "name": "stdout",
     "output_type": "stream",
     "text": [
      " Jesus zone\n",
      "3.0    0.208800\n",
      "6.0    0.398479\n",
      "9.0    0.418138\n",
      "Name: xwoba, dtype: float64\n",
      "zone\n",
      "3.0    0.250904\n",
      "6.0    0.326091\n",
      "9.0    0.312394\n",
      "Name: xwoba, dtype: float64\n"
     ]
    }
   ],
   "source": [
    "print(f\" Jesus {jesus_wobacon.groupby('zone')['xwoba'].mean()}\")\n",
    "print(l_wobacon.groupby('zone')['xwoba'].mean())"
   ]
  },
  {
   "cell_type": "code",
   "execution_count": 14,
   "id": "0286a7ba",
   "metadata": {},
   "outputs": [
    {
     "name": "stdout",
     "output_type": "stream",
     "text": [
      "zone\n",
      "1.0    -0.011807\n",
      "2.0    -0.048330\n",
      "3.0    -0.042104\n",
      "4.0     0.032867\n",
      "5.0     0.128489\n",
      "6.0     0.072388\n",
      "7.0    -0.025410\n",
      "8.0     0.106819\n",
      "9.0     0.105744\n",
      "11.0    0.005697\n",
      "12.0   -0.046542\n",
      "13.0   -0.049087\n",
      "14.0   -0.073904\n",
      "Name: xwoba, dtype: float64\n"
     ]
    }
   ],
   "source": [
    "# xwoba by zone for Jesus Sanchez\n",
    "jesus_xwoba_by_zone = jesus.groupby('zone')['xwoba'].mean()\n",
    "\n",
    "# xwoba by zone for league (all left-handed batters)\n",
    "league_xwoba_by_zone = pitch_level_612[pitch_level_612['b_stands'] == 'L'].groupby('zone')['xwoba'].mean()\n",
    "# find the difference between the two for each zone and then print that\n",
    "xwoba_diff_by_zone = jesus_xwoba_by_zone - league_xwoba_by_zone\n",
    "print(xwoba_diff_by_zone)"
   ]
  },
  {
   "cell_type": "code",
   "execution_count": null,
   "id": "85a0aca1",
   "metadata": {},
   "outputs": [
    {
     "name": "stdout",
     "output_type": "stream",
     "text": [
      "Percent of pitches by zone difference (Jesus - League LHH):\n",
      "zone\n",
      "1.0    -0.249420\n",
      "2.0    -0.074863\n",
      "3.0     0.101413\n",
      "4.0    -0.378466\n",
      "5.0    -0.069332\n",
      "6.0    -0.713255\n",
      "7.0    -0.091485\n",
      "8.0    -0.345851\n",
      "9.0    -0.803647\n",
      "11.0   -0.243116\n",
      "12.0    1.253751\n",
      "13.0    0.571515\n",
      "14.0    1.042755\n",
      "Name: proportion, dtype: float64\n"
     ]
    }
   ],
   "source": [
    "jesus_zone_pct = jesus['zone'].value_counts(normalize=True).sort_index() * 100\n",
    "\n",
    "league_lhh = pitch_level_612[pitch_level_612['b_stands'] == 'L']\n",
    "league_zone_pct = league_lhh['zone'].value_counts(normalize=True).sort_index() * 100\n",
    "\n",
    "zone_pct_diff = jesus_zone_pct.align(league_zone_pct, fill_value=0)[0] - jesus_zone_pct.align(league_zone_pct, fill_value=0)[1]\n",
    "print(\"Percent of pitches by zone difference (Jesus - League LHH):\")\n",
    "print(zone_pct_diff)"
   ]
  },
  {
   "cell_type": "code",
   "execution_count": 16,
   "id": "5abebe20",
   "metadata": {},
   "outputs": [
    {
     "name": "stdout",
     "output_type": "stream",
     "text": [
      "zone\n",
      "1.0      4.453887\n",
      "2.0      4.800126\n",
      "3.0      3.352219\n",
      "4.0      6.672962\n",
      "5.0      7.160844\n",
      "6.0      4.076172\n",
      "7.0      5.901794\n",
      "8.0      6.137866\n",
      "9.0      3.525338\n",
      "11.0    13.975449\n",
      "12.0     7.884797\n",
      "13.0    16.918477\n",
      "14.0    15.140069\n",
      "Name: proportion, dtype: float64\n"
     ]
    }
   ],
   "source": [
    "print(jesus_zone_pct)"
   ]
  }
 ],
 "metadata": {
  "kernelspec": {
   "display_name": "base",
   "language": "python",
   "name": "python3"
  },
  "language_info": {
   "codemirror_mode": {
    "name": "ipython",
    "version": 3
   },
   "file_extension": ".py",
   "mimetype": "text/x-python",
   "name": "python",
   "nbconvert_exporter": "python",
   "pygments_lexer": "ipython3",
   "version": "3.12.7"
  }
 },
 "nbformat": 4,
 "nbformat_minor": 5
}
