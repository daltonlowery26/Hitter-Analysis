{
 "cells": [
  {
   "cell_type": "markdown",
   "id": "d90159b3",
   "metadata": {},
   "source": [
    "#### Predecting Strikeouts"
   ]
  },
  {
   "cell_type": "markdown",
   "id": "21ff32a3",
   "metadata": {},
   "source": [
    "using xgboost modeling to predict strikeout rate"
   ]
  },
  {
   "cell_type": "code",
   "execution_count": null,
   "id": "d973c43a",
   "metadata": {
    "vscode": {
     "languageId": "plaintext"
    }
   },
   "outputs": [],
   "source": []
  }
 ],
 "metadata": {
  "language_info": {
   "name": "python"
  }
 },
 "nbformat": 4,
 "nbformat_minor": 5
}
