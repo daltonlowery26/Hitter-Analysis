{
 "cells": [
  {
   "cell_type": "markdown",
   "id": "d90159b3",
   "metadata": {},
   "source": [
    "#### Predecting Strikeouts"
   ]
  },
  {
   "cell_type": "markdown",
   "id": "21ff32a3",
   "metadata": {},
   "source": [
    "using xgboost modeling to predict strikeout rate"
   ]
  },
  {
   "cell_type": "code",
   "execution_count": 40,
   "id": "d973c43a",
   "metadata": {},
   "outputs": [],
   "source": [
    "import pandas as pd\n",
    "import xgboost as xgb\n",
    "from sklearn.model_selection import train_test_split, RandomizedSearchCV, GridSearchCV\n",
    "from sklearn.metrics import root_mean_squared_error\n",
    "import os\n",
    "import numpy as np\n",
    "\n",
    "os.chdir('C:/Users/dalto/OneDrive/Pictures/Documents/Projects/Coding Projects/Hitting Analysis/data/')"
   ]
  },
  {
   "cell_type": "markdown",
   "id": "9c0d8975",
   "metadata": {},
   "source": [
    "data grabbed and pre cleaned from local sql server"
   ]
  },
  {
   "cell_type": "code",
   "execution_count": 41,
   "id": "bf6b624c",
   "metadata": {},
   "outputs": [],
   "source": [
    "strikeout = pd.read_csv('./full/strikeout.csv')\n",
    "strikeout['next_k'] = strikeout.groupby('name')['k_pct'].shift(-1)\n",
    "strikeout_train = strikeout[strikeout['season'] != 2023]\n",
    "strikeout_train = strikeout_train[strikeout_train['next_k'].notna()]"
   ]
  },
  {
   "cell_type": "markdown",
   "id": "54acb858",
   "metadata": {},
   "source": [
    "#### xgboost"
   ]
  },
  {
   "cell_type": "code",
   "execution_count": 42,
   "id": "f2ac33f9",
   "metadata": {},
   "outputs": [],
   "source": [
    "X = strikeout_train.drop(columns=['name', 'season', 'k_pct', 'pa', 'z_contact_pct', 'next_k'])\n",
    "y = strikeout_train['k_pct']"
   ]
  },
  {
   "cell_type": "code",
   "execution_count": 43,
   "id": "f5cd703b",
   "metadata": {},
   "outputs": [],
   "source": [
    "xtrain, xtest, ytrain, ytest = train_test_split(X, y, test_size=.2, shuffle=True, random_state=26)"
   ]
  },
  {
   "cell_type": "code",
   "execution_count": 44,
   "id": "28010a5e",
   "metadata": {},
   "outputs": [],
   "source": [
    "model = xgb.XGBRegressor()\n",
    "model = model.fit(xtrain, ytrain)"
   ]
  },
  {
   "cell_type": "code",
   "execution_count": 208,
   "id": "118595e8",
   "metadata": {},
   "outputs": [
    {
     "name": "stdout",
     "output_type": "stream",
     "text": [
      "[0]\tvalidation_0-rmse:0.08600\n",
      "[1]\tvalidation_0-rmse:0.08320\n",
      "[2]\tvalidation_0-rmse:0.08042\n",
      "[3]\tvalidation_0-rmse:0.07794\n",
      "[4]\tvalidation_0-rmse:0.07550\n",
      "[5]\tvalidation_0-rmse:0.07336\n",
      "[6]\tvalidation_0-rmse:0.07132\n",
      "[7]\tvalidation_0-rmse:0.06940\n",
      "[8]\tvalidation_0-rmse:0.06762\n",
      "[9]\tvalidation_0-rmse:0.06592\n",
      "[10]\tvalidation_0-rmse:0.06433\n",
      "[11]\tvalidation_0-rmse:0.06289\n",
      "[12]\tvalidation_0-rmse:0.06155\n",
      "[13]\tvalidation_0-rmse:0.06040\n",
      "[14]\tvalidation_0-rmse:0.05920\n",
      "[15]\tvalidation_0-rmse:0.05807\n",
      "[16]\tvalidation_0-rmse:0.05710\n",
      "[17]\tvalidation_0-rmse:0.05608\n",
      "[18]\tvalidation_0-rmse:0.05521\n",
      "[19]\tvalidation_0-rmse:0.05431\n",
      "[20]\tvalidation_0-rmse:0.05347\n",
      "[21]\tvalidation_0-rmse:0.05269\n",
      "[22]\tvalidation_0-rmse:0.05200\n",
      "[23]\tvalidation_0-rmse:0.05140\n",
      "[24]\tvalidation_0-rmse:0.05083\n",
      "[25]\tvalidation_0-rmse:0.05027\n",
      "[26]\tvalidation_0-rmse:0.04962\n",
      "[27]\tvalidation_0-rmse:0.04923\n",
      "[28]\tvalidation_0-rmse:0.04885\n",
      "[29]\tvalidation_0-rmse:0.04846\n",
      "[30]\tvalidation_0-rmse:0.04814\n",
      "[31]\tvalidation_0-rmse:0.04779\n",
      "[32]\tvalidation_0-rmse:0.04750\n",
      "[33]\tvalidation_0-rmse:0.04726\n",
      "[34]\tvalidation_0-rmse:0.04702\n",
      "[35]\tvalidation_0-rmse:0.04681\n",
      "[36]\tvalidation_0-rmse:0.04651\n",
      "[37]\tvalidation_0-rmse:0.04629\n",
      "[38]\tvalidation_0-rmse:0.04606\n",
      "[39]\tvalidation_0-rmse:0.04582\n",
      "[40]\tvalidation_0-rmse:0.04558\n",
      "[41]\tvalidation_0-rmse:0.04542\n",
      "[42]\tvalidation_0-rmse:0.04520\n",
      "[43]\tvalidation_0-rmse:0.04503\n",
      "[44]\tvalidation_0-rmse:0.04480\n",
      "[45]\tvalidation_0-rmse:0.04468\n",
      "[46]\tvalidation_0-rmse:0.04458\n",
      "[47]\tvalidation_0-rmse:0.04447\n",
      "[48]\tvalidation_0-rmse:0.04436\n",
      "[49]\tvalidation_0-rmse:0.04424\n",
      "[50]\tvalidation_0-rmse:0.04411\n",
      "[51]\tvalidation_0-rmse:0.04399\n",
      "[52]\tvalidation_0-rmse:0.04389\n",
      "[53]\tvalidation_0-rmse:0.04382\n",
      "[54]\tvalidation_0-rmse:0.04377\n",
      "[55]\tvalidation_0-rmse:0.04371\n",
      "[56]\tvalidation_0-rmse:0.04365\n",
      "[57]\tvalidation_0-rmse:0.04358\n",
      "[58]\tvalidation_0-rmse:0.04348\n",
      "[59]\tvalidation_0-rmse:0.04341\n",
      "[60]\tvalidation_0-rmse:0.04338\n",
      "[61]\tvalidation_0-rmse:0.04338\n",
      "[62]\tvalidation_0-rmse:0.04333\n",
      "[63]\tvalidation_0-rmse:0.04328\n",
      "[64]\tvalidation_0-rmse:0.04321\n",
      "[65]\tvalidation_0-rmse:0.04320\n",
      "[66]\tvalidation_0-rmse:0.04309\n",
      "[67]\tvalidation_0-rmse:0.04311\n",
      "[68]\tvalidation_0-rmse:0.04307\n",
      "[69]\tvalidation_0-rmse:0.04305\n",
      "[70]\tvalidation_0-rmse:0.04296\n",
      "[71]\tvalidation_0-rmse:0.04294\n",
      "[72]\tvalidation_0-rmse:0.04295\n",
      "[73]\tvalidation_0-rmse:0.04294\n",
      "[74]\tvalidation_0-rmse:0.04290\n",
      "[75]\tvalidation_0-rmse:0.04288\n",
      "[76]\tvalidation_0-rmse:0.04290\n",
      "[77]\tvalidation_0-rmse:0.04293\n",
      "[78]\tvalidation_0-rmse:0.04289\n",
      "[79]\tvalidation_0-rmse:0.04287\n",
      "[80]\tvalidation_0-rmse:0.04288\n",
      "[81]\tvalidation_0-rmse:0.04286\n",
      "[82]\tvalidation_0-rmse:0.04282\n",
      "[83]\tvalidation_0-rmse:0.04281\n",
      "[84]\tvalidation_0-rmse:0.04280\n",
      "[85]\tvalidation_0-rmse:0.04281\n",
      "[86]\tvalidation_0-rmse:0.04278\n",
      "[87]\tvalidation_0-rmse:0.04277\n",
      "[88]\tvalidation_0-rmse:0.04279\n",
      "[89]\tvalidation_0-rmse:0.04280\n",
      "[90]\tvalidation_0-rmse:0.04284\n",
      "[91]\tvalidation_0-rmse:0.04282\n",
      "[92]\tvalidation_0-rmse:0.04280\n",
      "[93]\tvalidation_0-rmse:0.04276\n",
      "[94]\tvalidation_0-rmse:0.04273\n",
      "[95]\tvalidation_0-rmse:0.04271\n",
      "[96]\tvalidation_0-rmse:0.04270\n",
      "[97]\tvalidation_0-rmse:0.04270\n",
      "[98]\tvalidation_0-rmse:0.04268\n",
      "[99]\tvalidation_0-rmse:0.04260\n",
      "{'subsample': 0.5, 'min_child_weight': 9.444444444444445, 'max_leaves': 11, 'max_depth': 21, 'learning_rate': 0.05, 'early_stopping_rounds': 80, 'colsample_bytree': 1.0}\n"
     ]
    }
   ],
   "source": [
    "rnd_search_params = {\n",
    "    'learning_rate': np.linspace(0.05, 0.2, 4),          \n",
    "    'max_leaves': np.linspace(1, 40, 20, dtype=int),     \n",
    "    'min_child_weight': np.linspace(1, 20, 10),         \n",
    "    'subsample': np.linspace(0.3, 0.9, 7),               \n",
    "    'colsample_bytree': np.linspace(0.4, 1, 7),          \n",
    "    'early_stopping_rounds': np.linspace(10, 100, 10, dtype=int),  \n",
    "    'max_depth': np.linspace(0, 40, 20, dtype=int)       \n",
    "}\n",
    "\n",
    "rnd_searcher = RandomizedSearchCV(model, rnd_search_params, random_state=26, n_iter=500, cv=4, n_jobs=-1, verbose=0)\n",
    "rnd_searcher.fit(xtrain, ytrain, eval_set=[(xtest, ytest)])\n",
    "print(rnd_searcher.best_params_)"
   ]
  },
  {
   "cell_type": "code",
   "execution_count": 6,
   "id": "549d2cd9",
   "metadata": {},
   "outputs": [],
   "source": [
    "grid_search_params = {\n",
    "    'learning_rate': [0.05, 0.1],   \n",
    "    'max_leaves': [8, 9, 10],\n",
    "    'min_child_weight': [11, 12, 13],      \n",
    "    'subsample': [0.4, 0.5, 0.6],           \n",
    "    'colsample_bytree':[0.8, 0.9, 1],     \n",
    "    'early_stopping_rounds':[30, 40, 50],\n",
    "    'max_depth': [8,10, 12]\n",
    "}"
   ]
  },
  {
   "cell_type": "code",
   "execution_count": 27,
   "id": "c84ce0a8",
   "metadata": {},
   "outputs": [],
   "source": [
    "opti = {'colsample_bytree': 1, 'early_stopping_rounds': 30, 'learning_rate': 0.05, 'max_depth': 8, 'max_leaves': 9, 'min_child_weight': 11, 'subsample': 0.5}"
   ]
  },
  {
   "cell_type": "code",
   "execution_count": 7,
   "id": "f861f2b6",
   "metadata": {},
   "outputs": [
    {
     "name": "stdout",
     "output_type": "stream",
     "text": [
      "Fitting 2 folds for each of 1458 candidates, totalling 2916 fits\n",
      "[0]\tvalidation_0-rmse:0.08597\n",
      "[1]\tvalidation_0-rmse:0.08322\n",
      "[2]\tvalidation_0-rmse:0.08047\n",
      "[3]\tvalidation_0-rmse:0.07801\n",
      "[4]\tvalidation_0-rmse:0.07560\n",
      "[5]\tvalidation_0-rmse:0.07351\n",
      "[6]\tvalidation_0-rmse:0.07149\n",
      "[7]\tvalidation_0-rmse:0.06962\n",
      "[8]\tvalidation_0-rmse:0.06786\n",
      "[9]\tvalidation_0-rmse:0.06616\n",
      "[10]\tvalidation_0-rmse:0.06466\n",
      "[11]\tvalidation_0-rmse:0.06328\n",
      "[12]\tvalidation_0-rmse:0.06194\n",
      "[13]\tvalidation_0-rmse:0.06081\n",
      "[14]\tvalidation_0-rmse:0.05964\n",
      "[15]\tvalidation_0-rmse:0.05853\n",
      "[16]\tvalidation_0-rmse:0.05759\n",
      "[17]\tvalidation_0-rmse:0.05660\n",
      "[18]\tvalidation_0-rmse:0.05574\n",
      "[19]\tvalidation_0-rmse:0.05490\n",
      "[20]\tvalidation_0-rmse:0.05407\n",
      "[21]\tvalidation_0-rmse:0.05331\n",
      "[22]\tvalidation_0-rmse:0.05262\n",
      "[23]\tvalidation_0-rmse:0.05203\n",
      "[24]\tvalidation_0-rmse:0.05147\n",
      "[25]\tvalidation_0-rmse:0.05097\n",
      "[26]\tvalidation_0-rmse:0.05033\n",
      "[27]\tvalidation_0-rmse:0.04983\n",
      "[28]\tvalidation_0-rmse:0.04941\n",
      "[29]\tvalidation_0-rmse:0.04904\n",
      "[30]\tvalidation_0-rmse:0.04871\n",
      "[31]\tvalidation_0-rmse:0.04838\n",
      "[32]\tvalidation_0-rmse:0.04805\n",
      "[33]\tvalidation_0-rmse:0.04781\n",
      "[34]\tvalidation_0-rmse:0.04752\n",
      "[35]\tvalidation_0-rmse:0.04722\n",
      "[36]\tvalidation_0-rmse:0.04695\n",
      "[37]\tvalidation_0-rmse:0.04671\n",
      "[38]\tvalidation_0-rmse:0.04637\n",
      "[39]\tvalidation_0-rmse:0.04615\n",
      "[40]\tvalidation_0-rmse:0.04589\n",
      "[41]\tvalidation_0-rmse:0.04571\n",
      "[42]\tvalidation_0-rmse:0.04544\n",
      "[43]\tvalidation_0-rmse:0.04526\n",
      "[44]\tvalidation_0-rmse:0.04508\n",
      "[45]\tvalidation_0-rmse:0.04492\n",
      "[46]\tvalidation_0-rmse:0.04474\n",
      "[47]\tvalidation_0-rmse:0.04468\n",
      "[48]\tvalidation_0-rmse:0.04462\n",
      "[49]\tvalidation_0-rmse:0.04451\n",
      "[50]\tvalidation_0-rmse:0.04437\n",
      "[51]\tvalidation_0-rmse:0.04428\n",
      "[52]\tvalidation_0-rmse:0.04419\n",
      "[53]\tvalidation_0-rmse:0.04410\n",
      "[54]\tvalidation_0-rmse:0.04401\n",
      "[55]\tvalidation_0-rmse:0.04394\n",
      "[56]\tvalidation_0-rmse:0.04386\n",
      "[57]\tvalidation_0-rmse:0.04384\n",
      "[58]\tvalidation_0-rmse:0.04377\n",
      "[59]\tvalidation_0-rmse:0.04370\n",
      "[60]\tvalidation_0-rmse:0.04363\n",
      "[61]\tvalidation_0-rmse:0.04362\n",
      "[62]\tvalidation_0-rmse:0.04359\n",
      "[63]\tvalidation_0-rmse:0.04353\n",
      "[64]\tvalidation_0-rmse:0.04347\n",
      "[65]\tvalidation_0-rmse:0.04345\n",
      "[66]\tvalidation_0-rmse:0.04334\n",
      "[67]\tvalidation_0-rmse:0.04329\n",
      "[68]\tvalidation_0-rmse:0.04328\n",
      "[69]\tvalidation_0-rmse:0.04323\n",
      "[70]\tvalidation_0-rmse:0.04319\n",
      "[71]\tvalidation_0-rmse:0.04312\n",
      "[72]\tvalidation_0-rmse:0.04310\n",
      "[73]\tvalidation_0-rmse:0.04308\n",
      "[74]\tvalidation_0-rmse:0.04303\n",
      "[75]\tvalidation_0-rmse:0.04301\n",
      "[76]\tvalidation_0-rmse:0.04298\n",
      "[77]\tvalidation_0-rmse:0.04295\n",
      "[78]\tvalidation_0-rmse:0.04293\n",
      "[79]\tvalidation_0-rmse:0.04290\n",
      "[80]\tvalidation_0-rmse:0.04291\n",
      "[81]\tvalidation_0-rmse:0.04287\n",
      "[82]\tvalidation_0-rmse:0.04284\n",
      "[83]\tvalidation_0-rmse:0.04283\n",
      "[84]\tvalidation_0-rmse:0.04282\n",
      "[85]\tvalidation_0-rmse:0.04283\n",
      "[86]\tvalidation_0-rmse:0.04279\n",
      "[87]\tvalidation_0-rmse:0.04279\n",
      "[88]\tvalidation_0-rmse:0.04279\n",
      "[89]\tvalidation_0-rmse:0.04277\n",
      "[90]\tvalidation_0-rmse:0.04277\n",
      "[91]\tvalidation_0-rmse:0.04275\n",
      "[92]\tvalidation_0-rmse:0.04277\n",
      "[93]\tvalidation_0-rmse:0.04274\n",
      "[94]\tvalidation_0-rmse:0.04273\n",
      "[95]\tvalidation_0-rmse:0.04270\n",
      "[96]\tvalidation_0-rmse:0.04266\n",
      "[97]\tvalidation_0-rmse:0.04266\n",
      "[98]\tvalidation_0-rmse:0.04264\n",
      "[99]\tvalidation_0-rmse:0.04264\n",
      "{'colsample_bytree': 1, 'early_stopping_rounds': 30, 'learning_rate': 0.05, 'max_depth': 8, 'max_leaves': 9, 'min_child_weight': 11, 'subsample': 0.5}\n"
     ]
    }
   ],
   "source": [
    "grid_searcher = GridSearchCV(model, grid_search_params, cv=2, n_jobs=-1, verbose=4)\n",
    "grid_searcher.fit(xtrain, ytrain, eval_set=[(xtest, ytest)])\n",
    "print(grid_searcher.best_params_)"
   ]
  },
  {
   "cell_type": "code",
   "execution_count": 45,
   "id": "2adb3df5",
   "metadata": {},
   "outputs": [
    {
     "name": "stdout",
     "output_type": "stream",
     "text": [
      "[0]\tvalidation_0-rmse:0.07955\n",
      "[1]\tvalidation_0-rmse:0.07728\n",
      "[2]\tvalidation_0-rmse:0.07514\n",
      "[3]\tvalidation_0-rmse:0.07315\n",
      "[4]\tvalidation_0-rmse:0.07123\n",
      "[5]\tvalidation_0-rmse:0.06950\n",
      "[6]\tvalidation_0-rmse:0.06786\n",
      "[7]\tvalidation_0-rmse:0.06630\n",
      "[8]\tvalidation_0-rmse:0.06487\n",
      "[9]\tvalidation_0-rmse:0.06353\n",
      "[10]\tvalidation_0-rmse:0.06221\n",
      "[11]\tvalidation_0-rmse:0.06096\n",
      "[12]\tvalidation_0-rmse:0.05980\n",
      "[13]\tvalidation_0-rmse:0.05870\n",
      "[14]\tvalidation_0-rmse:0.05766\n",
      "[15]\tvalidation_0-rmse:0.05668\n",
      "[16]\tvalidation_0-rmse:0.05574\n",
      "[17]\tvalidation_0-rmse:0.05488\n",
      "[18]\tvalidation_0-rmse:0.05407\n",
      "[19]\tvalidation_0-rmse:0.05328\n",
      "[20]\tvalidation_0-rmse:0.05260\n",
      "[21]\tvalidation_0-rmse:0.05189\n",
      "[22]\tvalidation_0-rmse:0.05130\n",
      "[23]\tvalidation_0-rmse:0.05077\n",
      "[24]\tvalidation_0-rmse:0.05032\n",
      "[25]\tvalidation_0-rmse:0.04988\n",
      "[26]\tvalidation_0-rmse:0.04946\n",
      "[27]\tvalidation_0-rmse:0.04893\n",
      "[28]\tvalidation_0-rmse:0.04854\n",
      "[29]\tvalidation_0-rmse:0.04821\n",
      "[30]\tvalidation_0-rmse:0.04784\n",
      "[31]\tvalidation_0-rmse:0.04756\n",
      "[32]\tvalidation_0-rmse:0.04726\n",
      "[33]\tvalidation_0-rmse:0.04700\n",
      "[34]\tvalidation_0-rmse:0.04666\n",
      "[35]\tvalidation_0-rmse:0.04635\n",
      "[36]\tvalidation_0-rmse:0.04612\n",
      "[37]\tvalidation_0-rmse:0.04585\n",
      "[38]\tvalidation_0-rmse:0.04558\n",
      "[39]\tvalidation_0-rmse:0.04530\n",
      "[40]\tvalidation_0-rmse:0.04500\n",
      "[41]\tvalidation_0-rmse:0.04475\n",
      "[42]\tvalidation_0-rmse:0.04457\n",
      "[43]\tvalidation_0-rmse:0.04430\n",
      "[44]\tvalidation_0-rmse:0.04414\n",
      "[45]\tvalidation_0-rmse:0.04397\n",
      "[46]\tvalidation_0-rmse:0.04383\n",
      "[47]\tvalidation_0-rmse:0.04375\n",
      "[48]\tvalidation_0-rmse:0.04368\n",
      "[49]\tvalidation_0-rmse:0.04347\n",
      "[50]\tvalidation_0-rmse:0.04331\n",
      "[51]\tvalidation_0-rmse:0.04318\n",
      "[52]\tvalidation_0-rmse:0.04303\n",
      "[53]\tvalidation_0-rmse:0.04294\n",
      "[54]\tvalidation_0-rmse:0.04278\n",
      "[55]\tvalidation_0-rmse:0.04270\n",
      "[56]\tvalidation_0-rmse:0.04278\n",
      "[57]\tvalidation_0-rmse:0.04267\n",
      "[58]\tvalidation_0-rmse:0.04253\n",
      "[59]\tvalidation_0-rmse:0.04246\n",
      "[60]\tvalidation_0-rmse:0.04245\n",
      "[61]\tvalidation_0-rmse:0.04239\n",
      "[62]\tvalidation_0-rmse:0.04234\n",
      "[63]\tvalidation_0-rmse:0.04229\n",
      "[64]\tvalidation_0-rmse:0.04219\n",
      "[65]\tvalidation_0-rmse:0.04221\n",
      "[66]\tvalidation_0-rmse:0.04215\n",
      "[67]\tvalidation_0-rmse:0.04209\n",
      "[68]\tvalidation_0-rmse:0.04204\n",
      "[69]\tvalidation_0-rmse:0.04202\n",
      "[70]\tvalidation_0-rmse:0.04189\n",
      "[71]\tvalidation_0-rmse:0.04183\n",
      "[72]\tvalidation_0-rmse:0.04177\n",
      "[73]\tvalidation_0-rmse:0.04173\n",
      "[74]\tvalidation_0-rmse:0.04166\n",
      "[75]\tvalidation_0-rmse:0.04163\n",
      "[76]\tvalidation_0-rmse:0.04158\n",
      "[77]\tvalidation_0-rmse:0.04154\n",
      "[78]\tvalidation_0-rmse:0.04153\n",
      "[79]\tvalidation_0-rmse:0.04144\n",
      "[80]\tvalidation_0-rmse:0.04148\n",
      "[81]\tvalidation_0-rmse:0.04141\n",
      "[82]\tvalidation_0-rmse:0.04136\n",
      "[83]\tvalidation_0-rmse:0.04132\n",
      "[84]\tvalidation_0-rmse:0.04133\n",
      "[85]\tvalidation_0-rmse:0.04123\n",
      "[86]\tvalidation_0-rmse:0.04115\n",
      "[87]\tvalidation_0-rmse:0.04111\n",
      "[88]\tvalidation_0-rmse:0.04103\n",
      "[89]\tvalidation_0-rmse:0.04097\n",
      "[90]\tvalidation_0-rmse:0.04091\n",
      "[91]\tvalidation_0-rmse:0.04084\n",
      "[92]\tvalidation_0-rmse:0.04079\n",
      "[93]\tvalidation_0-rmse:0.04074\n",
      "[94]\tvalidation_0-rmse:0.04069\n",
      "[95]\tvalidation_0-rmse:0.04068\n",
      "[96]\tvalidation_0-rmse:0.04063\n",
      "[97]\tvalidation_0-rmse:0.04057\n",
      "[98]\tvalidation_0-rmse:0.04056\n",
      "[99]\tvalidation_0-rmse:0.04048\n"
     ]
    }
   ],
   "source": [
    "model = model.set_params(**opti)\n",
    "model = model.fit(xtrain, ytrain, eval_set=[(xtest, ytest)])"
   ]
  },
  {
   "cell_type": "code",
   "execution_count": 46,
   "id": "c3cdff24",
   "metadata": {},
   "outputs": [
    {
     "data": {
      "text/plain": [
       "<Axes: title={'center': 'Feature importance'}, xlabel='F score', ylabel='Features'>"
      ]
     },
     "execution_count": 46,
     "metadata": {},
     "output_type": "execute_result"
    },
    {
     "data": {
      "image/png": "[encoded data removed]",
      "text/plain": [
       "<Figure size 640x480 with 1 Axes>"
      ]
     },
     "metadata": {},
     "output_type": "display_data"
    }
   ],
   "source": [
    "xgb.plot_importance(model)"
   ]
  },
  {
   "cell_type": "code",
   "execution_count": 47,
   "id": "e2349c40",
   "metadata": {},
   "outputs": [],
   "source": [
    "predicted = model.predict(xtest)"
   ]
  },
  {
   "cell_type": "markdown",
   "id": "1fe914db",
   "metadata": {},
   "source": [
    "#### Results"
   ]
  },
  {
   "cell_type": "code",
   "execution_count": 48,
   "id": "bad2aaca",
   "metadata": {},
   "outputs": [
    {
     "name": "stdout",
     "output_type": "stream",
     "text": [
      "0.877817305767293\n",
      "0.040476020092189674\n"
     ]
    }
   ],
   "source": [
    "r = np.corrcoef(predicted, ytest.reset_index(drop=True))[0, 1]\n",
    "print(r)\n",
    "\n",
    "rmse = root_mean_squared_error(y_true=ytest, y_pred=predicted)\n",
    "print(rmse)"
   ]
  },
  {
   "cell_type": "code",
   "execution_count": 50,
   "id": "d8352881",
   "metadata": {},
   "outputs": [
    {
     "name": "stderr",
     "output_type": "stream",
     "text": [
      "C:\\Users\\dalto\\AppData\\Local\\Temp\\ipykernel_27600\\759014072.py:3: SettingWithCopyWarning: \n",
      "A value is trying to be set on a copy of a slice from a DataFrame.\n",
      "Try using .loc[row_indexer,col_indexer] = value instead\n",
      "\n",
      "See the caveats in the documentation: https://pandas.pydata.org/pandas-docs/stable/user_guide/indexing.html#returning-a-view-versus-a-copy\n",
      "  strikeout23['pred_k'] = model.predict(x_24)\n"
     ]
    }
   ],
   "source": [
    "strikeout23 = strikeout[strikeout['season'] == 2023]\n",
    "x_24 = strikeout23.drop(columns=['name', 'season', 'k_pct', 'pa', 'z_contact_pct', 'next_k'])\n",
    "strikeout23['pred_k'] = model.predict(x_24)\n",
    "strikeout23 = strikeout23[['name','pa', 'season','k_pct', 'pred_k']]\n",
    "strikeout23['diff'] = strikeout23['k_pct'] - strikeout23['pred_k']"
   ]
  },
  {
   "cell_type": "code",
   "execution_count": 51,
   "id": "25507e61",
   "metadata": {},
   "outputs": [
    {
     "name": "stdout",
     "output_type": "stream",
     "text": [
      "corr between k% 23 and k% 24 0.7238891929862656\n",
      "corr between pred k% 23 and k% 24 0.7317026763503195\n"
     ]
    },
    {
     "name": "stderr",
     "output_type": "stream",
     "text": [
      "C:\\Users\\dalto\\AppData\\Local\\Temp\\ipykernel_27600\\1209122903.py:3: SettingWithCopyWarning: \n",
      "A value is trying to be set on a copy of a slice from a DataFrame.\n",
      "Try using .loc[row_indexer,col_indexer] = value instead\n",
      "\n",
      "See the caveats in the documentation: https://pandas.pydata.org/pandas-docs/stable/user_guide/indexing.html#returning-a-view-versus-a-copy\n",
      "  strikeout24['pred_k_24'] = model.predict(x_25)\n"
     ]
    }
   ],
   "source": [
    "strikeout24 = strikeout[strikeout['season'] == 2024]\n",
    "x_25 = strikeout24.drop(columns=['name', 'season', 'k_pct', 'pa', 'z_contact_pct', 'next_k'])\n",
    "strikeout24['pred_k_24'] = model.predict(x_25)\n",
    "strikeout24 = strikeout24[['name','pa', 'k_pct', 'pred_k_24']]\n",
    "strikeout_23_24 = strikeout23.merge(strikeout24, on=['name'], how='outer')\n",
    "strikeout_23_24 = strikeout_23_24.dropna()\n",
    "strikeout_23_24 = strikeout_23_24[(strikeout_23_24['pa_y'] > 30) & (strikeout_23_24['pa_x'] > 30)]\n",
    "print(f\"corr between k% 23 and k% 24 {strikeout_23_24['k_pct_x'].corr(strikeout_23_24['k_pct_y'])}\")\n",
    "print(f\"corr between pred k% 23 and k% 24 {strikeout_23_24['pred_k'].corr(strikeout_23_24['k_pct_y'])}\")"
   ]
  },
  {
   "cell_type": "markdown",
   "id": "4af857af",
   "metadata": {},
   "source": [
    "#### Predecting 25"
   ]
  },
  {
   "cell_type": "code",
   "execution_count": 36,
   "id": "3d156122",
   "metadata": {},
   "outputs": [],
   "source": [
    "strikeout = pd.read_csv('./full/strikeout.csv')\n",
    "strikeout['next_k'] = strikeout.groupby('name')['k_pct'].shift(-1)\n",
    "strikeout_train = strikeout_train[strikeout_train['next_k'].notna()]\n",
    "X = strikeout_train.drop(columns=['name', 'season', 'k_pct', 'pa', 'z_contact_pct', 'next_k'])\n",
    "y = strikeout_train['next_k']\n",
    "xtrain, xtest, ytrain, ytest = train_test_split(X, y, test_size=.2, shuffle=True, random_state=26)"
   ]
  },
  {
   "cell_type": "code",
   "execution_count": 37,
   "id": "63d79dd9",
   "metadata": {},
   "outputs": [
    {
     "name": "stdout",
     "output_type": "stream",
     "text": [
      "[0]\tvalidation_0-rmse:0.07964\n",
      "[1]\tvalidation_0-rmse:0.07830\n",
      "[2]\tvalidation_0-rmse:0.07711\n",
      "[3]\tvalidation_0-rmse:0.07599\n",
      "[4]\tvalidation_0-rmse:0.07509\n",
      "[5]\tvalidation_0-rmse:0.07424\n",
      "[6]\tvalidation_0-rmse:0.07340\n",
      "[7]\tvalidation_0-rmse:0.07258\n",
      "[8]\tvalidation_0-rmse:0.07188\n",
      "[9]\tvalidation_0-rmse:0.07122\n",
      "[10]\tvalidation_0-rmse:0.07067\n",
      "[11]\tvalidation_0-rmse:0.07014\n",
      "[12]\tvalidation_0-rmse:0.06963\n",
      "[13]\tvalidation_0-rmse:0.06916\n",
      "[14]\tvalidation_0-rmse:0.06871\n",
      "[15]\tvalidation_0-rmse:0.06825\n",
      "[16]\tvalidation_0-rmse:0.06796\n",
      "[17]\tvalidation_0-rmse:0.06772\n",
      "[18]\tvalidation_0-rmse:0.06739\n",
      "[19]\tvalidation_0-rmse:0.06711\n",
      "[20]\tvalidation_0-rmse:0.06690\n",
      "[21]\tvalidation_0-rmse:0.06669\n",
      "[22]\tvalidation_0-rmse:0.06646\n",
      "[23]\tvalidation_0-rmse:0.06632\n",
      "[24]\tvalidation_0-rmse:0.06612\n",
      "[25]\tvalidation_0-rmse:0.06597\n",
      "[26]\tvalidation_0-rmse:0.06581\n",
      "[27]\tvalidation_0-rmse:0.06567\n",
      "[28]\tvalidation_0-rmse:0.06553\n",
      "[29]\tvalidation_0-rmse:0.06540\n",
      "[30]\tvalidation_0-rmse:0.06522\n",
      "[31]\tvalidation_0-rmse:0.06515\n",
      "[32]\tvalidation_0-rmse:0.06501\n",
      "[33]\tvalidation_0-rmse:0.06491\n",
      "[34]\tvalidation_0-rmse:0.06488\n",
      "[35]\tvalidation_0-rmse:0.06470\n",
      "[36]\tvalidation_0-rmse:0.06465\n",
      "[37]\tvalidation_0-rmse:0.06458\n",
      "[38]\tvalidation_0-rmse:0.06450\n",
      "[39]\tvalidation_0-rmse:0.06438\n",
      "[40]\tvalidation_0-rmse:0.06432\n",
      "[41]\tvalidation_0-rmse:0.06433\n",
      "[42]\tvalidation_0-rmse:0.06436\n",
      "[43]\tvalidation_0-rmse:0.06438\n",
      "[44]\tvalidation_0-rmse:0.06433\n",
      "[45]\tvalidation_0-rmse:0.06436\n",
      "[46]\tvalidation_0-rmse:0.06437\n",
      "[47]\tvalidation_0-rmse:0.06429\n",
      "[48]\tvalidation_0-rmse:0.06418\n",
      "[49]\tvalidation_0-rmse:0.06424\n",
      "[50]\tvalidation_0-rmse:0.06421\n",
      "[51]\tvalidation_0-rmse:0.06421\n",
      "[52]\tvalidation_0-rmse:0.06416\n",
      "[53]\tvalidation_0-rmse:0.06414\n",
      "[54]\tvalidation_0-rmse:0.06419\n",
      "[55]\tvalidation_0-rmse:0.06418\n",
      "[56]\tvalidation_0-rmse:0.06419\n",
      "[57]\tvalidation_0-rmse:0.06414\n",
      "[58]\tvalidation_0-rmse:0.06411\n",
      "[59]\tvalidation_0-rmse:0.06410\n",
      "[60]\tvalidation_0-rmse:0.06412\n",
      "[61]\tvalidation_0-rmse:0.06409\n",
      "[62]\tvalidation_0-rmse:0.06410\n",
      "[63]\tvalidation_0-rmse:0.06405\n",
      "[64]\tvalidation_0-rmse:0.06401\n",
      "[65]\tvalidation_0-rmse:0.06400\n",
      "[66]\tvalidation_0-rmse:0.06399\n",
      "[67]\tvalidation_0-rmse:0.06396\n",
      "[68]\tvalidation_0-rmse:0.06393\n",
      "[69]\tvalidation_0-rmse:0.06395\n",
      "[70]\tvalidation_0-rmse:0.06390\n",
      "[71]\tvalidation_0-rmse:0.06393\n",
      "[72]\tvalidation_0-rmse:0.06398\n",
      "[73]\tvalidation_0-rmse:0.06397\n",
      "[74]\tvalidation_0-rmse:0.06399\n",
      "[75]\tvalidation_0-rmse:0.06396\n",
      "[76]\tvalidation_0-rmse:0.06395\n",
      "[77]\tvalidation_0-rmse:0.06391\n",
      "[78]\tvalidation_0-rmse:0.06391\n",
      "[79]\tvalidation_0-rmse:0.06387\n",
      "[80]\tvalidation_0-rmse:0.06388\n",
      "[81]\tvalidation_0-rmse:0.06389\n",
      "[82]\tvalidation_0-rmse:0.06385\n",
      "[83]\tvalidation_0-rmse:0.06383\n",
      "[84]\tvalidation_0-rmse:0.06388\n",
      "[85]\tvalidation_0-rmse:0.06385\n",
      "[86]\tvalidation_0-rmse:0.06384\n",
      "[87]\tvalidation_0-rmse:0.06383\n",
      "[88]\tvalidation_0-rmse:0.06386\n",
      "[89]\tvalidation_0-rmse:0.06391\n",
      "[90]\tvalidation_0-rmse:0.06393\n",
      "[91]\tvalidation_0-rmse:0.06396\n",
      "[92]\tvalidation_0-rmse:0.06394\n",
      "[93]\tvalidation_0-rmse:0.06398\n",
      "[94]\tvalidation_0-rmse:0.06397\n",
      "[95]\tvalidation_0-rmse:0.06400\n",
      "[96]\tvalidation_0-rmse:0.06400\n",
      "[97]\tvalidation_0-rmse:0.06401\n",
      "[98]\tvalidation_0-rmse:0.06405\n",
      "[99]\tvalidation_0-rmse:0.06405\n"
     ]
    }
   ],
   "source": [
    "model = model.set_params(**opti)\n",
    "model = model.fit(xtrain, ytrain, eval_set=[(xtest, ytest)])"
   ]
  },
  {
   "cell_type": "code",
   "execution_count": 53,
   "id": "15faff82",
   "metadata": {},
   "outputs": [
    {
     "name": "stderr",
     "output_type": "stream",
     "text": [
      "C:\\Users\\dalto\\AppData\\Local\\Temp\\ipykernel_27600\\3836519661.py:3: SettingWithCopyWarning: \n",
      "A value is trying to be set on a copy of a slice from a DataFrame.\n",
      "Try using .loc[row_indexer,col_indexer] = value instead\n",
      "\n",
      "See the caveats in the documentation: https://pandas.pydata.org/pandas-docs/stable/user_guide/indexing.html#returning-a-view-versus-a-copy\n",
      "  strikeout24['k_deserved'] = model.predict(x_24)\n"
     ]
    }
   ],
   "source": [
    "strikeout24 = strikeout[strikeout['season'] == 2024]\n",
    "x_24 = strikeout24.drop(columns=['name', 'season', 'k_pct', 'pa', 'z_contact_pct', 'next_k'])\n",
    "strikeout24['k_deserved'] = model.predict(x_24)"
   ]
  }
 ],
 "metadata": {
  "kernelspec": {
   "display_name": "base",
   "language": "python",
   "name": "python3"
  },
  "language_info": {
   "codemirror_mode": {
    "name": "ipython",
    "version": 3
   },
   "file_extension": ".py",
   "mimetype": "text/x-python",
   "name": "python",
   "nbconvert_exporter": "python",
   "pygments_lexer": "ipython3",
   "version": "3.12.7"
  }
 },
 "nbformat": 4,
 "nbformat_minor": 5
}
