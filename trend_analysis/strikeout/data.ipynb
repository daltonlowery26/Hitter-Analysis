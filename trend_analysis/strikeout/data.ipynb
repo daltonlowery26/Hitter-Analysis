{
 "cells": [
  {
   "cell_type": "code",
   "execution_count": 22,
   "id": "f330ed13",
   "metadata": {},
   "outputs": [],
   "source": [
    "import pandas as pd\n",
    "import os\n",
    "\n",
    "os.chdir('C:/Users/dalto/OneDrive/Pictures/Documents/Projects/Coding Projects/Hitting Analysis/data/')"
   ]
  },
  {
   "cell_type": "code",
   "execution_count": 23,
   "id": "84a8536b",
   "metadata": {},
   "outputs": [],
   "source": [
    "fg_plate_disc = pd.read_csv('./full/plate_disc/plate_disc_fg.csv')\n",
    "whiff = pd.read_csv('./full/plate_disc/whiff.csv')\n",
    "swing = pd.read_csv('./full/swing_values_25.csv').drop(columns=['Unnamed: 0'])\n"
   ]
  },
  {
   "cell_type": "code",
   "execution_count": 24,
   "id": "f9ef2b5a",
   "metadata": {},
   "outputs": [],
   "source": [
    "import re\n",
    "import unicodedata\n",
    "def clean_name(name):\n",
    "    # Normalize the string to decompose accented characters\n",
    "    name = unicodedata.normalize('NFKD', name).encode('ascii', 'ignore').decode('utf-8')\n",
    "    # Remove all non-alphanumeric characters\n",
    "    name = re.sub(r'[^a-z\\s]', '', name)\n",
    "    return name"
   ]
  },
  {
   "cell_type": "code",
   "execution_count": 25,
   "id": "0a9c8722",
   "metadata": {},
   "outputs": [],
   "source": [
    "whiff['last_name, first_name'] = whiff['last_name, first_name'].str.lower()\n",
    "whiff['last_name, first_name'] = whiff['last_name, first_name'].apply(clean_name)\n",
    "whiff['last_name, first_name'] = whiff['last_name, first_name'].apply(lambda x: ' '.join(x.split(' ')[::-1]) if ' ' in x else x)\n",
    "whiff = whiff.drop(columns=['player_id', 'year'])"
   ]
  },
  {
   "cell_type": "code",
   "execution_count": 26,
   "id": "911c4dc3",
   "metadata": {},
   "outputs": [],
   "source": [
    "fg_plate_disc['Name'] = fg_plate_disc['Name'].str.lower()\n",
    "fg_plate_disc['Name'] = fg_plate_disc['Name'].apply(clean_name)\n",
    "fg_plate_disc = fg_plate_disc[['Name', 'PA', 'O-Swing%', 'Swing%', 'Contact%']]"
   ]
  },
  {
   "cell_type": "code",
   "execution_count": 27,
   "id": "ca5b0398",
   "metadata": {},
   "outputs": [],
   "source": [
    "swing = swing[swing['game_date'] == 2025]"
   ]
  },
  {
   "cell_type": "code",
   "execution_count": 30,
   "id": "022b5c96",
   "metadata": {},
   "outputs": [],
   "source": [
    "# merge all these dfs together on name\n",
    "merged = fg_plate_disc.merge(\n",
    "    whiff, left_on='Name', right_on='last_name, first_name', how='outer'\n",
    ").merge(\n",
    "    swing, left_on='Name', right_on='batter', how='outer'\n",
    ")\n",
    "\n",
    "merged = merged.dropna()"
   ]
  },
  {
   "cell_type": "code",
   "execution_count": 31,
   "id": "d211f69c",
   "metadata": {},
   "outputs": [],
   "source": [
    "merged.to_csv('./full/plate_disc/merged_clean.csv')"
   ]
  }
 ],
 "metadata": {
  "kernelspec": {
   "display_name": "base",
   "language": "python",
   "name": "python3"
  },
  "language_info": {
   "codemirror_mode": {
    "name": "ipython",
    "version": 3
   },
   "file_extension": ".py",
   "mimetype": "text/x-python",
   "name": "python",
   "nbconvert_exporter": "python",
   "pygments_lexer": "ipython3",
   "version": "3.12.7"
  }
 },
 "nbformat": 4,
 "nbformat_minor": 5
}
