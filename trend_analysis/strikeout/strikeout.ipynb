{
 "cells": [
  {
   "cell_type": "markdown",
   "id": "d90159b3",
   "metadata": {},
   "source": [
    "#### Predecting Strikeouts"
   ]
  },
  {
   "cell_type": "markdown",
   "id": "21ff32a3",
   "metadata": {},
   "source": [
    "using xgboost modeling to predict strikeout rate"
   ]
  },
  {
   "cell_type": "code",
   "execution_count": 171,
   "id": "d973c43a",
   "metadata": {},
   "outputs": [],
   "source": [
    "import pandas as pd\n",
    "import xgboost as xgb\n",
    "from sklearn.model_selection import train_test_split, RandomizedSearchCV, GridSearchCV\n",
    "from sklearn.metrics import root_mean_squared_error\n",
    "import os\n",
    "import numpy as np\n",
    "\n",
    "os.chdir('C:/Users/dalto/OneDrive/Pictures/Documents/Projects/Coding Projects/Hitting Analysis/data/')"
   ]
  },
  {
   "cell_type": "markdown",
   "id": "9c0d8975",
   "metadata": {},
   "source": [
    "data grabbed and pre cleaned from local sql server"
   ]
  },
  {
   "cell_type": "code",
   "execution_count": 172,
   "id": "bf6b624c",
   "metadata": {},
   "outputs": [],
   "source": [
    "strikeout = pd.read_csv('./full/strikeout.csv')\n",
    "strikeout['next_k'] = strikeout.groupby('name')['k_pct'].shift(-1)\n",
    "strikeout_train = strikeout[strikeout['pa'] > 70]\n",
    "strikeout_train = strikeout_train[strikeout_train['season'] != 2023]\n",
    "strikeout_train = strikeout_train[strikeout_train['next_k'].notna()]"
   ]
  },
  {
   "cell_type": "markdown",
   "id": "54acb858",
   "metadata": {},
   "source": [
    "#### xgboost"
   ]
  },
  {
   "cell_type": "code",
   "execution_count": 173,
   "id": "f2ac33f9",
   "metadata": {},
   "outputs": [],
   "source": [
    "X = strikeout_train.drop(columns=['name', 'season', 'k_pct', 'pa', 'next_k', 'z_contact_pct','sweet_spot_pct', 'chase_value', 'swing_percent'])\n",
    "y = strikeout_train['k_pct']"
   ]
  },
  {
   "cell_type": "code",
   "execution_count": 174,
   "id": "f5cd703b",
   "metadata": {},
   "outputs": [],
   "source": [
    "xtrain, xtest, ytrain, ytest = train_test_split(X, y, test_size=.1, shuffle=True, random_state=26)"
   ]
  },
  {
   "cell_type": "code",
   "execution_count": 175,
   "id": "28010a5e",
   "metadata": {},
   "outputs": [],
   "source": [
    "model = xgb.XGBRegressor()\n",
    "model = model.fit(xtrain, ytrain)"
   ]
  },
  {
   "cell_type": "code",
   "execution_count": null,
   "id": "118595e8",
   "metadata": {},
   "outputs": [],
   "source": [
    "rnd_search_params = {\n",
    "    'learning_rate': np.linspace(0.05, 0.2, 4),          \n",
    "    'max_leaves': np.linspace(1, 40, 20, dtype=int),     \n",
    "    'min_child_weight': np.linspace(1, 20, 10),         \n",
    "    'subsample': np.linspace(0.3, 0.9, 7),               \n",
    "    'colsample_bytree': np.linspace(0.4, 1, 7),          \n",
    "    'early_stopping_rounds': np.linspace(10, 100, 10, dtype=int),  \n",
    "    'max_depth': np.linspace(0, 40, 20, dtype=int)       \n",
    "}\n",
    "\n",
    "rnd_searcher = RandomizedSearchCV(model, rnd_search_params, random_state=26, n_iter=500, cv=4, n_jobs=-1, verbose=0)\n",
    "rnd_searcher.fit(xtrain, ytrain, eval_set=[(xtest, ytest)])\n",
    "print(rnd_searcher.best_params_)"
   ]
  },
  {
   "cell_type": "code",
   "execution_count": 176,
   "id": "549d2cd9",
   "metadata": {},
   "outputs": [],
   "source": [
    "grid_search_params = {\n",
    "    'learning_rate': [0.05, 0.1],   \n",
    "    'max_leaves': [7, 8, 9],\n",
    "    'min_child_weight': [9, 10, 11],      \n",
    "    'subsample': [0,4, 0.45 ,0.5],           \n",
    "    'colsample_bytree':[0.95, 1],     \n",
    "    'early_stopping_rounds':[8, 9 , 10],\n",
    "    'max_depth': [2, 3, 4]\n",
    "}"
   ]
  },
  {
   "cell_type": "code",
   "execution_count": 177,
   "id": "c84ce0a8",
   "metadata": {},
   "outputs": [],
   "source": [
    "opti = {'colsample_bytree': 1, 'early_stopping_rounds': 9, 'learning_rate': 0.1, 'max_depth': 3, 'max_leaves': 8, 'min_child_weight': 10, 'subsample': 0.45}"
   ]
  },
  {
   "cell_type": "code",
   "execution_count": null,
   "id": "f861f2b6",
   "metadata": {},
   "outputs": [],
   "source": [
    "grid_searcher = GridSearchCV(model, grid_search_params, cv=4, n_jobs=-1, verbose=4)\n",
    "grid_searcher.fit(xtrain, ytrain, eval_set=[(xtest, ytest)])\n",
    "print(grid_searcher.best_params_)"
   ]
  },
  {
   "cell_type": "code",
   "execution_count": 178,
   "id": "2adb3df5",
   "metadata": {},
   "outputs": [
    {
     "name": "stdout",
     "output_type": "stream",
     "text": [
      "[0]\tvalidation_0-rmse:0.06054\n",
      "[1]\tvalidation_0-rmse:0.05625\n",
      "[2]\tvalidation_0-rmse:0.05255\n",
      "[3]\tvalidation_0-rmse:0.04941\n",
      "[4]\tvalidation_0-rmse:0.04664\n",
      "[5]\tvalidation_0-rmse:0.04418\n",
      "[6]\tvalidation_0-rmse:0.04209\n",
      "[7]\tvalidation_0-rmse:0.04012\n",
      "[8]\tvalidation_0-rmse:0.03855\n",
      "[9]\tvalidation_0-rmse:0.03710\n",
      "[10]\tvalidation_0-rmse:0.03578\n",
      "[11]\tvalidation_0-rmse:0.03449\n",
      "[12]\tvalidation_0-rmse:0.03363\n",
      "[13]\tvalidation_0-rmse:0.03273\n",
      "[14]\tvalidation_0-rmse:0.03200\n",
      "[15]\tvalidation_0-rmse:0.03155\n",
      "[16]\tvalidation_0-rmse:0.03097\n",
      "[17]\tvalidation_0-rmse:0.03062\n",
      "[18]\tvalidation_0-rmse:0.03023\n",
      "[19]\tvalidation_0-rmse:0.02981\n",
      "[20]\tvalidation_0-rmse:0.02949\n",
      "[21]\tvalidation_0-rmse:0.02912\n",
      "[22]\tvalidation_0-rmse:0.02878\n",
      "[23]\tvalidation_0-rmse:0.02854\n",
      "[24]\tvalidation_0-rmse:0.02838\n",
      "[25]\tvalidation_0-rmse:0.02812\n",
      "[26]\tvalidation_0-rmse:0.02798\n",
      "[27]\tvalidation_0-rmse:0.02797\n",
      "[28]\tvalidation_0-rmse:0.02779\n",
      "[29]\tvalidation_0-rmse:0.02752\n",
      "[30]\tvalidation_0-rmse:0.02731\n",
      "[31]\tvalidation_0-rmse:0.02720\n",
      "[32]\tvalidation_0-rmse:0.02709\n",
      "[33]\tvalidation_0-rmse:0.02702\n",
      "[34]\tvalidation_0-rmse:0.02688\n",
      "[35]\tvalidation_0-rmse:0.02684\n",
      "[36]\tvalidation_0-rmse:0.02673\n",
      "[37]\tvalidation_0-rmse:0.02668\n",
      "[38]\tvalidation_0-rmse:0.02665\n",
      "[39]\tvalidation_0-rmse:0.02659\n",
      "[40]\tvalidation_0-rmse:0.02652\n",
      "[41]\tvalidation_0-rmse:0.02642\n",
      "[42]\tvalidation_0-rmse:0.02642\n",
      "[43]\tvalidation_0-rmse:0.02636\n",
      "[44]\tvalidation_0-rmse:0.02630\n",
      "[45]\tvalidation_0-rmse:0.02627\n",
      "[46]\tvalidation_0-rmse:0.02620\n",
      "[47]\tvalidation_0-rmse:0.02623\n",
      "[48]\tvalidation_0-rmse:0.02623\n",
      "[49]\tvalidation_0-rmse:0.02622\n",
      "[50]\tvalidation_0-rmse:0.02617\n",
      "[51]\tvalidation_0-rmse:0.02614\n",
      "[52]\tvalidation_0-rmse:0.02613\n",
      "[53]\tvalidation_0-rmse:0.02607\n",
      "[54]\tvalidation_0-rmse:0.02598\n",
      "[55]\tvalidation_0-rmse:0.02590\n",
      "[56]\tvalidation_0-rmse:0.02590\n",
      "[57]\tvalidation_0-rmse:0.02585\n",
      "[58]\tvalidation_0-rmse:0.02584\n",
      "[59]\tvalidation_0-rmse:0.02583\n",
      "[60]\tvalidation_0-rmse:0.02582\n",
      "[61]\tvalidation_0-rmse:0.02582\n",
      "[62]\tvalidation_0-rmse:0.02581\n",
      "[63]\tvalidation_0-rmse:0.02580\n",
      "[64]\tvalidation_0-rmse:0.02578\n",
      "[65]\tvalidation_0-rmse:0.02579\n",
      "[66]\tvalidation_0-rmse:0.02579\n",
      "[67]\tvalidation_0-rmse:0.02580\n",
      "[68]\tvalidation_0-rmse:0.02579\n",
      "[69]\tvalidation_0-rmse:0.02577\n",
      "[70]\tvalidation_0-rmse:0.02578\n",
      "[71]\tvalidation_0-rmse:0.02576\n",
      "[72]\tvalidation_0-rmse:0.02578\n",
      "[73]\tvalidation_0-rmse:0.02584\n",
      "[74]\tvalidation_0-rmse:0.02580\n",
      "[75]\tvalidation_0-rmse:0.02582\n",
      "[76]\tvalidation_0-rmse:0.02577\n",
      "[77]\tvalidation_0-rmse:0.02581\n",
      "[78]\tvalidation_0-rmse:0.02580\n",
      "[79]\tvalidation_0-rmse:0.02582\n",
      "[80]\tvalidation_0-rmse:0.02580\n"
     ]
    }
   ],
   "source": [
    "model = model.set_params(**opti)\n",
    "model = model.fit(xtrain, ytrain, eval_set=[(xtest, ytest)])"
   ]
  },
  {
   "cell_type": "code",
   "execution_count": 179,
   "id": "c3cdff24",
   "metadata": {},
   "outputs": [
    {
     "data": {
      "text/plain": [
       "<Axes: title={'center': 'Feature importance'}, xlabel='F score', ylabel='Features'>"
      ]
     },
     "execution_count": 179,
     "metadata": {},
     "output_type": "execute_result"
    },
    {
     "data": {
      "image/png": "[encoded data removed]",
      "text/plain": [
       "<Figure size 640x480 with 1 Axes>"
      ]
     },
     "metadata": {},
     "output_type": "display_data"
    }
   ],
   "source": [
    "xgb.plot_importance(model)"
   ]
  },
  {
   "cell_type": "code",
   "execution_count": 180,
   "id": "e2349c40",
   "metadata": {},
   "outputs": [],
   "source": [
    "predicted = model.predict(xtest)"
   ]
  },
  {
   "cell_type": "markdown",
   "id": "1fe914db",
   "metadata": {},
   "source": [
    "#### Results"
   ]
  },
  {
   "cell_type": "code",
   "execution_count": 181,
   "id": "bad2aaca",
   "metadata": {},
   "outputs": [
    {
     "name": "stdout",
     "output_type": "stream",
     "text": [
      "0.91931952429905\n",
      "0.025758431951730998\n"
     ]
    }
   ],
   "source": [
    "r = np.corrcoef(predicted, ytest.reset_index(drop=True))[0, 1]\n",
    "print(r)\n",
    "\n",
    "rmse = root_mean_squared_error(y_true=ytest, y_pred=predicted)\n",
    "print(rmse)"
   ]
  },
  {
   "cell_type": "code",
   "execution_count": 182,
   "id": "d8352881",
   "metadata": {},
   "outputs": [
    {
     "name": "stderr",
     "output_type": "stream",
     "text": [
      "C:\\Users\\dalto\\AppData\\Local\\Temp\\ipykernel_25616\\2092766780.py:3: SettingWithCopyWarning: \n",
      "A value is trying to be set on a copy of a slice from a DataFrame.\n",
      "Try using .loc[row_indexer,col_indexer] = value instead\n",
      "\n",
      "See the caveats in the documentation: https://pandas.pydata.org/pandas-docs/stable/user_guide/indexing.html#returning-a-view-versus-a-copy\n",
      "  strikeout23['pred_k'] = model.predict(x_24)\n"
     ]
    }
   ],
   "source": [
    "strikeout23 = strikeout[strikeout['season'] == 2023]\n",
    "x_24 = strikeout23.drop(columns=['name', 'season', 'k_pct', 'pa', 'next_k', 'z_contact_pct','sweet_spot_pct', 'chase_value', 'swing_percent'])\n",
    "strikeout23['pred_k'] = model.predict(x_24)\n",
    "strikeout23 = strikeout23[['name','pa', 'season','k_pct', 'pred_k']]\n",
    "strikeout23['diff'] = strikeout23['k_pct'] - strikeout23['pred_k']"
   ]
  },
  {
   "cell_type": "code",
   "execution_count": 183,
   "id": "25507e61",
   "metadata": {},
   "outputs": [
    {
     "name": "stdout",
     "output_type": "stream",
     "text": [
      "corr between k% 23 and k% 24 0.7238891929862656\n",
      "corr between pred k% 23 and k% 24 0.7322416010884177\n"
     ]
    },
    {
     "name": "stderr",
     "output_type": "stream",
     "text": [
      "C:\\Users\\dalto\\AppData\\Local\\Temp\\ipykernel_25616\\2707437600.py:3: SettingWithCopyWarning: \n",
      "A value is trying to be set on a copy of a slice from a DataFrame.\n",
      "Try using .loc[row_indexer,col_indexer] = value instead\n",
      "\n",
      "See the caveats in the documentation: https://pandas.pydata.org/pandas-docs/stable/user_guide/indexing.html#returning-a-view-versus-a-copy\n",
      "  strikeout24['pred_k_24'] = model.predict(x_25)\n"
     ]
    }
   ],
   "source": [
    "strikeout24 = strikeout[strikeout['season'] == 2024]\n",
    "x_25 = strikeout24.drop(columns=['name', 'season', 'k_pct', 'pa', 'next_k', 'z_contact_pct','sweet_spot_pct', 'chase_value', 'swing_percent'])\n",
    "strikeout24['pred_k_24'] = model.predict(x_25)\n",
    "strikeout24 = strikeout24[['name','pa', 'k_pct', 'pred_k_24']]\n",
    "strikeout_23_24 = strikeout23.merge(strikeout24, on=['name'], how='outer')\n",
    "strikeout_23_24 = strikeout_23_24.dropna()\n",
    "strikeout_23_24 = strikeout_23_24[(strikeout_23_24['pa_y'] > 30) & (strikeout_23_24['pa_x'] > 30)]\n",
    "print(f\"corr between k% 23 and k% 24 {strikeout_23_24['k_pct_x'].corr(strikeout_23_24['k_pct_y'])}\")\n",
    "print(f\"corr between pred k% 23 and k% 24 {strikeout_23_24['pred_k'].corr(strikeout_23_24['k_pct_y'])}\")"
   ]
  },
  {
   "cell_type": "markdown",
   "id": "4af857af",
   "metadata": {},
   "source": [
    "#### Predecting 25"
   ]
  },
  {
   "cell_type": "code",
   "execution_count": 184,
   "id": "3d156122",
   "metadata": {},
   "outputs": [],
   "source": [
    "strikeout = pd.read_csv('./full/strikeout.csv')\n",
    "strikeout['next_k'] = strikeout.groupby('name')['k_pct'].shift(-1)\n",
    "strikeout_train = strikeout[strikeout['pa'] > 70]\n",
    "strikeout_train = strikeout_train[strikeout_train['next_k'].notna()]\n",
    "X = strikeout_train.drop(columns=['name', 'season', 'k_pct', 'pa', 'next_k', 'z_contact_pct','sweet_spot_pct', 'chase_value', 'swing_percent'])\n",
    "y = strikeout_train['k_pct']\n",
    "xtrain, xtest, ytrain, ytest = train_test_split(X, y, test_size=.1, shuffle=True, random_state=26)\n"
   ]
  },
  {
   "cell_type": "code",
   "execution_count": 185,
   "id": "63d79dd9",
   "metadata": {},
   "outputs": [
    {
     "name": "stdout",
     "output_type": "stream",
     "text": [
      "[0]\tvalidation_0-rmse:0.06250\n",
      "[1]\tvalidation_0-rmse:0.05817\n",
      "[2]\tvalidation_0-rmse:0.05439\n",
      "[3]\tvalidation_0-rmse:0.05110\n",
      "[4]\tvalidation_0-rmse:0.04823\n",
      "[5]\tvalidation_0-rmse:0.04575\n",
      "[6]\tvalidation_0-rmse:0.04357\n",
      "[7]\tvalidation_0-rmse:0.04160\n",
      "[8]\tvalidation_0-rmse:0.04006\n",
      "[9]\tvalidation_0-rmse:0.03866\n",
      "[10]\tvalidation_0-rmse:0.03753\n",
      "[11]\tvalidation_0-rmse:0.03649\n",
      "[12]\tvalidation_0-rmse:0.03552\n",
      "[13]\tvalidation_0-rmse:0.03481\n",
      "[14]\tvalidation_0-rmse:0.03429\n",
      "[15]\tvalidation_0-rmse:0.03368\n",
      "[16]\tvalidation_0-rmse:0.03315\n",
      "[17]\tvalidation_0-rmse:0.03273\n",
      "[18]\tvalidation_0-rmse:0.03244\n",
      "[19]\tvalidation_0-rmse:0.03210\n",
      "[20]\tvalidation_0-rmse:0.03196\n",
      "[21]\tvalidation_0-rmse:0.03169\n",
      "[22]\tvalidation_0-rmse:0.03141\n",
      "[23]\tvalidation_0-rmse:0.03121\n",
      "[24]\tvalidation_0-rmse:0.03098\n",
      "[25]\tvalidation_0-rmse:0.03091\n",
      "[26]\tvalidation_0-rmse:0.03075\n",
      "[27]\tvalidation_0-rmse:0.03059\n",
      "[28]\tvalidation_0-rmse:0.03046\n",
      "[29]\tvalidation_0-rmse:0.03028\n",
      "[30]\tvalidation_0-rmse:0.03016\n",
      "[31]\tvalidation_0-rmse:0.03009\n",
      "[32]\tvalidation_0-rmse:0.02997\n",
      "[33]\tvalidation_0-rmse:0.02994\n",
      "[34]\tvalidation_0-rmse:0.02995\n",
      "[35]\tvalidation_0-rmse:0.02987\n",
      "[36]\tvalidation_0-rmse:0.02980\n",
      "[37]\tvalidation_0-rmse:0.02979\n",
      "[38]\tvalidation_0-rmse:0.02969\n",
      "[39]\tvalidation_0-rmse:0.02964\n",
      "[40]\tvalidation_0-rmse:0.02963\n",
      "[41]\tvalidation_0-rmse:0.02964\n",
      "[42]\tvalidation_0-rmse:0.02967\n",
      "[43]\tvalidation_0-rmse:0.02967\n",
      "[44]\tvalidation_0-rmse:0.02960\n",
      "[45]\tvalidation_0-rmse:0.02957\n",
      "[46]\tvalidation_0-rmse:0.02958\n",
      "[47]\tvalidation_0-rmse:0.02957\n",
      "[48]\tvalidation_0-rmse:0.02954\n",
      "[49]\tvalidation_0-rmse:0.02953\n",
      "[50]\tvalidation_0-rmse:0.02956\n",
      "[51]\tvalidation_0-rmse:0.02946\n",
      "[52]\tvalidation_0-rmse:0.02949\n",
      "[53]\tvalidation_0-rmse:0.02952\n",
      "[54]\tvalidation_0-rmse:0.02952\n",
      "[55]\tvalidation_0-rmse:0.02959\n",
      "[56]\tvalidation_0-rmse:0.02953\n",
      "[57]\tvalidation_0-rmse:0.02950\n",
      "[58]\tvalidation_0-rmse:0.02954\n",
      "[59]\tvalidation_0-rmse:0.02948\n",
      "[60]\tvalidation_0-rmse:0.02945\n",
      "[61]\tvalidation_0-rmse:0.02949\n",
      "[62]\tvalidation_0-rmse:0.02947\n",
      "[63]\tvalidation_0-rmse:0.02950\n",
      "[64]\tvalidation_0-rmse:0.02952\n",
      "[65]\tvalidation_0-rmse:0.02948\n",
      "[66]\tvalidation_0-rmse:0.02950\n",
      "[67]\tvalidation_0-rmse:0.02949\n",
      "[68]\tvalidation_0-rmse:0.02953\n",
      "[69]\tvalidation_0-rmse:0.02945\n",
      "[70]\tvalidation_0-rmse:0.02946\n",
      "[71]\tvalidation_0-rmse:0.02945\n",
      "[72]\tvalidation_0-rmse:0.02945\n",
      "[73]\tvalidation_0-rmse:0.02946\n",
      "[74]\tvalidation_0-rmse:0.02941\n",
      "[75]\tvalidation_0-rmse:0.02945\n",
      "[76]\tvalidation_0-rmse:0.02945\n",
      "[77]\tvalidation_0-rmse:0.02945\n",
      "[78]\tvalidation_0-rmse:0.02950\n",
      "[79]\tvalidation_0-rmse:0.02950\n",
      "[80]\tvalidation_0-rmse:0.02950\n",
      "[81]\tvalidation_0-rmse:0.02950\n",
      "[82]\tvalidation_0-rmse:0.02956\n",
      "[83]\tvalidation_0-rmse:0.02953\n"
     ]
    }
   ],
   "source": [
    "model = model.set_params(**opti)\n",
    "model = model.fit(xtrain, ytrain, eval_set=[(xtest, ytest)])"
   ]
  },
  {
   "cell_type": "markdown",
   "id": "d127e512",
   "metadata": {},
   "source": [
    "2025 data"
   ]
  },
  {
   "cell_type": "code",
   "execution_count": 186,
   "id": "00364595",
   "metadata": {},
   "outputs": [],
   "source": [
    "plate_disc_25 = pd.read_csv('./full/plate_disc/merged_clean.csv')\n",
    "x_25 = plate_disc_25[['O-Swing%', 'Swing%', 'Contact%', 'whiff_percent', 'chase_shadow_value', 'overall_value', 'breaking_value', 'fastball_value', 'offspeed_value']]\n",
    "x_25 = x_25.rename(columns={'chase_shadow_value':'chase_value'})"
   ]
  },
  {
   "cell_type": "code",
   "execution_count": 187,
   "id": "ff059ead",
   "metadata": {},
   "outputs": [],
   "source": [
    "x_25 = x_25.rename(columns={'Swing%': 'swing_percent', 'O-Swing%': 'o_swing_pct', 'Contact%': 'contact_pct'})\n",
    "x_25 = x_25[x_24.columns]"
   ]
  },
  {
   "cell_type": "code",
   "execution_count": 188,
   "id": "37a1fcc8",
   "metadata": {},
   "outputs": [],
   "source": [
    "plate_disc_25['proj_k%'] = model.predict(x_25)\n",
    "plate_disc_25 = plate_disc_25[['Name', 'PA', 'proj_k%']]"
   ]
  }
 ],
 "metadata": {
  "kernelspec": {
   "display_name": "base",
   "language": "python",
   "name": "python3"
  },
  "language_info": {
   "codemirror_mode": {
    "name": "ipython",
    "version": 3
   },
   "file_extension": ".py",
   "mimetype": "text/x-python",
   "name": "python",
   "nbconvert_exporter": "python",
   "pygments_lexer": "ipython3",
   "version": "3.12.7"
  }
 },
 "nbformat": 4,
 "nbformat_minor": 5
}
