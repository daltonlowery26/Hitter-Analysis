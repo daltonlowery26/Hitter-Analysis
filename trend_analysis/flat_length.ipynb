{
 "cells": [
  {
   "cell_type": "markdown",
   "id": "31cb0d17",
   "metadata": {},
   "source": [
    "#### Understanding Swing Length"
   ]
  },
  {
   "cell_type": "code",
   "execution_count": 1,
   "id": "e6464d35",
   "metadata": {},
   "outputs": [],
   "source": [
    "import pandas as pd\n",
    "import pingouin as pg\n",
    "import os\n",
    "\n",
    "import os\n",
    "os.chdir('C:/Users/dalto/OneDrive/Pictures/Documents/Projects/Coding Projects/Hitting Analysis/data')"
   ]
  },
  {
   "cell_type": "code",
   "execution_count": 2,
   "id": "94db2e30",
   "metadata": {},
   "outputs": [],
   "source": [
    "pitch = pd.read_csv('./full/pitch.csv')"
   ]
  },
  {
   "cell_type": "markdown",
   "id": "255c3868",
   "metadata": {},
   "source": [
    "mean swing length and mean swing tilt"
   ]
  },
  {
   "cell_type": "code",
   "execution_count": 3,
   "id": "21c645a4",
   "metadata": {},
   "outputs": [],
   "source": [
    "length_tilt = pd.DataFrame()\n",
    "pitch_zone = pitch[pitch['statcast_zone'] == 5]\n",
    "length_tilt = pitch_zone.groupby(['batter', 'season'])[['tilt', 'swing_length']].mean().reset_index()\n",
    "length_tilt = length_tilt.dropna()"
   ]
  },
  {
   "cell_type": "code",
   "execution_count": 4,
   "id": "3ce1eee1",
   "metadata": {},
   "outputs": [
    {
     "name": "stdout",
     "output_type": "stream",
     "text": [
      "corr between tilt and length -0.1726427187037003\n"
     ]
    }
   ],
   "source": [
    "print(f\"corr between tilt and length {length_tilt['swing_length'].corr(length_tilt['tilt'])}\")"
   ]
  },
  {
   "cell_type": "markdown",
   "id": "e387da25",
   "metadata": {},
   "source": [
    "wobacon and swing length "
   ]
  },
  {
   "cell_type": "code",
   "execution_count": 8,
   "id": "c865c48d",
   "metadata": {},
   "outputs": [],
   "source": [
    "length_woba = pd.DataFrame()\n",
    "pitch_hit = pitch[pitch['description'] == 'hit_into_play']\n",
    "count_df = pitch_hit.groupby(['batter', 'season']).size().reset_index(name='pitch_count')\n",
    "length_woba = pitch_hit.groupby(['batter', 'season'])[['xwoba', 'swing_length', 'attack_angle', 'bat_speed']].mean().reset_index()\n",
    "length_woba = pd.merge(length_woba, count_df, on=['batter', 'season'])\n",
    "length_woba = length_woba.dropna()\n",
    "# length_woba = length_woba[length_woba['pitch_count'] > 300]"
   ]
  },
  {
   "cell_type": "code",
   "execution_count": 9,
   "id": "7e03f6d7",
   "metadata": {},
   "outputs": [
    {
     "name": "stdout",
     "output_type": "stream",
     "text": [
      "full corr 0.2767411083481431\n",
      "            n         r         CI95%         p-val\n",
      "pearson  1200  0.297632  [0.25, 0.35]  5.965523e-26\n"
     ]
    }
   ],
   "source": [
    "pcorr = pg.partial_corr(data=length_woba, x='swing_length', y='attack_angle', covar='bat_speed')\n",
    "corr = print(f\"full corr {length_woba['swing_length'].corr(length_woba['xwoba'])}\")\n",
    "print(pcorr)"
   ]
  },
  {
   "cell_type": "markdown",
   "id": "262e0102",
   "metadata": {},
   "source": [
    "swing length and attack direction"
   ]
  },
  {
   "cell_type": "code",
   "execution_count": null,
   "id": "04cccfec",
   "metadata": {},
   "outputs": [],
   "source": [
    "length_attack = pd.DataFrame()\n",
    "length_attack = pitch_zone.groupby(['batter', 'season'])[['attack_angle', 'swing_length', 'attack_direction',]].mean().reset_index()\n",
    "length_attack = pd.merge(length_attack, count_df, on=['batter', 'season'])\n",
    "length_attack = length_attack.dropna()"
   ]
  },
  {
   "cell_type": "code",
   "execution_count": 11,
   "id": "e67ad691",
   "metadata": {},
   "outputs": [
    {
     "name": "stdout",
     "output_type": "stream",
     "text": [
      "length and attack 0.4959363207444794\n",
      "length and direction -0.2811173512618194\n"
     ]
    }
   ],
   "source": [
    "print(f\"length and attack {length_attack['swing_length'].corr(length_attack['attack_angle'])}\")\n",
    "print(f\"length and direction {length_attack['swing_length'].corr(length_attack['attack_direction'])}\")\n"
   ]
  },
  {
   "cell_type": "markdown",
   "id": "a161b358",
   "metadata": {},
   "source": [
    "tilt vs swing and miss"
   ]
  },
  {
   "cell_type": "code",
   "execution_count": 26,
   "id": "1047cf5c",
   "metadata": {},
   "outputs": [],
   "source": [
    "pitch_break = pitch[pitch['pitch_name'].isin(['Curveball', 'Knuckle Curve', 'Slow Curve', 'Slider', 'Sweeper', 'Slurve', 'Screwball'])]\n",
    "tilt_miss = pitch_break.groupby(['batter', 'season'])[['tilt', 'swing_length']].mean().reset_index()\n",
    "total_pitches = pitch_break.groupby(['batter', 'season']).size().reset_index(name='total_pitches')\n",
    "swing_miss_pitches = pitch_break[pitch_break['description'].isin(['swinging_strike', 'swinging_strike_blocked'])] \\\n",
    "    .groupby(['batter', 'season']).size().reset_index(name='swing_miss_count')\n",
    "miss_pct = pd.merge(total_pitches, swing_miss_pitches, on=['batter', 'season'], how='left')\n",
    "miss_pct['swing_miss_count'] = miss_pct['swing_miss_count'].fillna(0)\n",
    "miss_pct['miss_pct'] = miss_pct['swing_miss_count'] / miss_pct['total_pitches']\n",
    "tilt_miss = pd.merge(tilt_miss, miss_pct[['batter', 'season', 'miss_pct', 'total_pitches']], on=['batter', 'season'], how='left')\n",
    "tilt_miss = tilt_miss.dropna()\n",
    "tilt_miss = tilt_miss[tilt_miss['total_pitches'] > 250]"
   ]
  },
  {
   "cell_type": "code",
   "execution_count": 27,
   "id": "89f0e871",
   "metadata": {},
   "outputs": [
    {
     "name": "stdout",
     "output_type": "stream",
     "text": [
      "Mean miss_pct for top 20% tilt: 0.158\n",
      "Mean miss_pct for bottom 20% tilt: 0.139\n"
     ]
    }
   ],
   "source": [
    "# find the mean swing and miss for those in the top 20% of swing tilt and then the mean for those in the bottom 20%\n",
    "top_20 = tilt_miss[tilt_miss['tilt'] >= tilt_miss['tilt'].quantile(0.8)]\n",
    "bottom_20 = tilt_miss[tilt_miss['tilt'] <= tilt_miss['tilt'].quantile(0.2)]\n",
    "\n",
    "mean_miss_top_20 = top_20['miss_pct'].mean()\n",
    "mean_miss_bottom_20 = bottom_20['miss_pct'].mean()\n",
    "\n",
    "print(f\"Mean miss_pct for top 20% tilt: {mean_miss_top_20:.3f}\")\n",
    "print(f\"Mean miss_pct for bottom 20% tilt: {mean_miss_bottom_20:.3f}\")"
   ]
  },
  {
   "cell_type": "code",
   "execution_count": 28,
   "id": "af85a90a",
   "metadata": {},
   "outputs": [],
   "source": [
    "pitch_break = pitch[pitch['pitch_name'].isin(['4-Seam Fastball', 'Cutter', 'Sinker', '2-Seam Fastball'])]\n",
    "tilt_miss = pitch_break.groupby(['batter', 'season'])[['tilt', 'swing_length']].mean().reset_index()\n",
    "total_pitches = pitch_break.groupby(['batter', 'season']).size().reset_index(name='total_pitches')\n",
    "swing_miss_pitches = pitch_break[pitch_break['description'].isin(['swinging_strike', 'swinging_strike_blocked'])] \\\n",
    "    .groupby(['batter', 'season']).size().reset_index(name='swing_miss_count')\n",
    "miss_pct = pd.merge(total_pitches, swing_miss_pitches, on=['batter', 'season'], how='left')\n",
    "miss_pct['swing_miss_count'] = miss_pct['swing_miss_count'].fillna(0)\n",
    "miss_pct['miss_pct'] = miss_pct['swing_miss_count'] / miss_pct['total_pitches']\n",
    "tilt_miss = pd.merge(tilt_miss, miss_pct[['batter', 'season', 'miss_pct', 'total_pitches']], on=['batter', 'season'], how='left')\n",
    "tilt_miss = tilt_miss.dropna()\n",
    "tilt_miss = tilt_miss[tilt_miss['total_pitches'] > 250]"
   ]
  },
  {
   "cell_type": "code",
   "execution_count": 29,
   "id": "19f36a73",
   "metadata": {},
   "outputs": [
    {
     "name": "stdout",
     "output_type": "stream",
     "text": [
      "Mean miss_pct for top 20% tilt: 0.092\n",
      "Mean miss_pct for bottom 20% tilt: 0.079\n"
     ]
    }
   ],
   "source": [
    "# find the mean swing and miss for those in the top 20% of swing tilt and then the mean for those in the bottom 20%\n",
    "top_20 = tilt_miss[tilt_miss['tilt'] >= tilt_miss['tilt'].quantile(0.8)]\n",
    "bottom_20 = tilt_miss[tilt_miss['tilt'] <= tilt_miss['tilt'].quantile(0.2)]\n",
    "\n",
    "mean_miss_top_20 = top_20['miss_pct'].mean()\n",
    "mean_miss_bottom_20 = bottom_20['miss_pct'].mean()\n",
    "\n",
    "print(f\"Mean miss_pct for top 20% tilt: {mean_miss_top_20:.3f}\")\n",
    "print(f\"Mean miss_pct for bottom 20% tilt: {mean_miss_bottom_20:.3f}\")"
   ]
  }
 ],
 "metadata": {
  "kernelspec": {
   "display_name": "base",
   "language": "python",
   "name": "python3"
  },
  "language_info": {
   "codemirror_mode": {
    "name": "ipython",
    "version": 3
   },
   "file_extension": ".py",
   "mimetype": "text/x-python",
   "name": "python",
   "nbconvert_exporter": "python",
   "pygments_lexer": "ipython3",
   "version": "3.12.7"
  }
 },
 "nbformat": 4,
 "nbformat_minor": 5
}
