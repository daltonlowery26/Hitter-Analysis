{
 "cells": [
  {
   "cell_type": "markdown",
   "id": "b0033870",
   "metadata": {},
   "source": [
    "#### Time to Contact Correlation"
   ]
  },
  {
   "cell_type": "code",
   "execution_count": 41,
   "id": "69eb14e6",
   "metadata": {},
   "outputs": [],
   "source": [
    "import pandas as pd\n",
    "import numpy as np\n",
    "import matplotlib.pyplot as plt\n",
    "import os\n",
    "\n",
    "os.chdir('C:/Users/dalto/OneDrive/Pictures/Documents/Projects/Coding Projects/Biomechanics/data/')"
   ]
  },
  {
   "cell_type": "code",
   "execution_count": 42,
   "id": "110acfa9",
   "metadata": {},
   "outputs": [],
   "source": [
    "ttc = pd.read_csv('./full/merged_data.csv')\n",
    "ttc = ttc[ttc['time_to_contact'].notna()]\n",
    "ttc = ttc[ttc['pitch_count'] > 100]"
   ]
  },
  {
   "cell_type": "markdown",
   "id": "1a42f137",
   "metadata": {},
   "source": [
    "### TTC Correlations"
   ]
  },
  {
   "cell_type": "code",
   "execution_count": 43,
   "id": "c5049fed",
   "metadata": {},
   "outputs": [
    {
     "name": "stdout",
     "output_type": "stream",
     "text": [
      "average_swing_length    0.700586\n",
      "attack_angle            0.313721\n",
      "pull_pct                0.227980\n",
      "ideal_angle             0.216321\n",
      "age                     0.174191\n",
      "o_swing_pct             0.086672\n",
      "csw_pct                 0.053049\n",
      "whiff_percent           0.027562\n",
      "def                     0.027189\n",
      "swstr_pct               0.023549\n",
      "vertical_swing_path     0.019272\n",
      "k_pct                   0.010731\n",
      "fastball_value         -0.002255\n",
      "squared_up_swing       -0.005653\n",
      "bb_pct                 -0.006359\n",
      "squared_up_contact     -0.008568\n",
      "z_contact_pct          -0.014055\n",
      "chase_value            -0.015190\n",
      "contact_pct            -0.028989\n",
      "season.2               -0.032782\n",
      "season.3               -0.032782\n",
      "season                 -0.032782\n",
      "season.1               -0.032782\n",
      "sweet_spot_pct         -0.035077\n",
      "overall_value          -0.042331\n",
      "offspeed_value         -0.050419\n",
      "barrel_rate            -0.051210\n",
      "swords                 -0.056954\n",
      "pitch_count            -0.075504\n",
      "pa                     -0.079327\n",
      "z_swing_pct            -0.080420\n",
      "breaking_value         -0.081183\n",
      "woba                   -0.089596\n",
      "wrc_plus               -0.089851\n",
      "bsr                    -0.092219\n",
      "war                    -0.107152\n",
      "xwoba                  -0.108986\n",
      "xwobacon               -0.113982\n",
      "babip                  -0.114874\n",
      "off                    -0.117000\n",
      "center_pct             -0.131777\n",
      "hard_hit_pct           -0.150218\n",
      "blasts_contact         -0.154345\n",
      "blasts_swing           -0.160152\n",
      "opposite_pct           -0.160212\n",
      "adj_ev                 -0.167189\n",
      "ev50                   -0.173476\n",
      "avg_bat_speed          -0.175827\n",
      "fast_swing_rate        -0.178744\n",
      "attack_direction       -0.247337\n",
      "dtype: float64\n"
     ]
    }
   ],
   "source": [
    "import statsmodels.api as sm\n",
    "\n",
    "numeric_ttc = ttc.select_dtypes(include=['number'])\n",
    "control_vars = ['swing_percent']\n",
    "cols = [col for col in numeric_ttc.columns if col not in ['time_to_contact'] + control_vars]\n",
    "\n",
    "partial_corr = {}\n",
    "# Prepare a design matrix with constant for the control variables.\n",
    "X_control = sm.add_constant(numeric_ttc[control_vars])\n",
    "\n",
    "for col in cols:\n",
    "    # Regress time_to_contact on control variables and get residuals.\n",
    "    model_y = sm.OLS(numeric_ttc['time_to_contact'], X_control).fit()\n",
    "    resid_y = model_y.resid\n",
    "    \n",
    "    # Regress current variable on control variables and get residuals.\n",
    "    model_x = sm.OLS(numeric_ttc[col], X_control).fit()\n",
    "    resid_x = model_x.resid\n",
    "    \n",
    "    # Compute correlation between the residuals.\n",
    "    partial_corr[col] = np.corrcoef(resid_y, resid_x)[0, 1]\n",
    "\n",
    "# Display the partial correlations sorted from high to low.\n",
    "print(pd.Series(partial_corr).sort_values(ascending=False))\n"
   ]
  },
  {
   "cell_type": "markdown",
   "id": "a2d86c76",
   "metadata": {},
   "source": [
    "### Correlation Between Breaking Ball Value"
   ]
  },
  {
   "cell_type": "code",
   "execution_count": 44,
   "id": "75ed53e7",
   "metadata": {},
   "outputs": [
    {
     "name": "stdout",
     "output_type": "stream",
     "text": [
      "breaking_value          1.000000\n",
      "overall_value           0.654263\n",
      "xwoba                   0.420878\n",
      "chase_value             0.369394\n",
      "off                     0.344239\n",
      "pitch_count             0.330387\n",
      "war                     0.329812\n",
      "woba                    0.329646\n",
      "wrc_plus                0.326441\n",
      "pa                      0.319596\n",
      "adj_ev                  0.313733\n",
      "ev50                    0.313098\n",
      "bb_pct                  0.296601\n",
      "hard_hit_pct            0.295225\n",
      "fastball_value          0.287802\n",
      "xwobacon                0.287495\n",
      "barrel_rate             0.285724\n",
      "z_swing_pct             0.273803\n",
      "offspeed_value          0.259953\n",
      "blasts_swing            0.249393\n",
      "avg_bat_speed           0.241398\n",
      "blasts_contact          0.237046\n",
      "fast_swing_rate         0.209645\n",
      "swords                  0.206409\n",
      "average_swing_length    0.108888\n",
      "pull_pct                0.083328\n",
      "age                     0.073102\n",
      "sweet_spot_pct          0.057884\n",
      "attack_angle            0.042925\n",
      "babip                   0.042733\n",
      "vertical_swing_path     0.031818\n",
      "attack_direction        0.029651\n",
      "ideal_angle             0.028875\n",
      "contact_pct             0.010677\n",
      "swing_percent           0.009982\n",
      "swstr_pct              -0.005337\n",
      "whiff_percent          -0.016909\n",
      "squared_up_swing       -0.024490\n",
      "squared_up_contact     -0.036552\n",
      "z_contact_pct          -0.039115\n",
      "opposite_pct           -0.039697\n",
      "season.3               -0.046045\n",
      "season.2               -0.046045\n",
      "season.1               -0.046045\n",
      "season                 -0.046045\n",
      "center_pct             -0.067054\n",
      "bsr                    -0.077621\n",
      "time_to_contact        -0.080044\n",
      "o_swing_pct            -0.099583\n",
      "def                    -0.138099\n",
      "k_pct                  -0.167815\n",
      "csw_pct                -0.291547\n",
      "Name: breaking_value, dtype: float64\n"
     ]
    }
   ],
   "source": [
    "corrs = numeric_ttc.corr()['breaking_value'].sort_values(ascending=False)\n",
    "print(corrs)"
   ]
  },
  {
   "cell_type": "code",
   "execution_count": 45,
   "id": "29bad712",
   "metadata": {},
   "outputs": [],
   "source": [
    "ttc_diff = ttc.copy()\n",
    "ttc_diff['o_swing_pct'] = ttc_diff['o_swing_pct'] * 100\n",
    "ttc_diff = ttc_diff.groupby('name').filter(lambda group: len(group) >= 2)\n",
    "ttc_diff['time_to_contact_diff'] = ttc_diff.groupby('name')['time_to_contact'].diff()\n",
    "ttc_diff['o_swing_pct_diff'] = ttc_diff.groupby('name')['o_swing_pct'].diff()\n",
    "ttc_diff['overall_value_diff'] = ttc_diff.groupby('name')['overall_value'].diff()\n",
    "ttc_diff['chase_value_diff'] = ttc_diff.groupby('name')['chase_value'].diff()\n",
    "ttc_diff['swing_percent_diff'] = ttc_diff.groupby('name')['swing_percent'].diff()\n",
    "ttc_diff['ev50_diff'] = ttc_diff.groupby('name')['ev50'].diff()\n",
    "ttc_diff['breaking_value_diff'] = ttc_diff.groupby('name')['breaking_value'].diff()\n",
    "ttc_diff['sweet_spot_pct_diff'] = ttc_diff.groupby('name')['sweet_spot_pct'].diff()\n",
    "ttc_diff['avg_bat_speed_diff'] = ttc_diff.groupby('name')['avg_bat_speed'].diff()\n",
    "ttc_diff['average_swing_length_diff'] = ttc_diff.groupby('name')['average_swing_length'].diff()\n",
    "ttc_diff['xwoba_diff'] = ttc_diff.groupby('name')['xwoba'].diff()\n",
    "ttc_diff['fastball_value_diff'] = ttc_diff.groupby('name')['fastball_value'].diff()\n",
    "ttc_diff['offspeed_value_diff'] = ttc_diff.groupby('name')['offspeed_value'].diff()"
   ]
  },
  {
   "cell_type": "code",
   "execution_count": 46,
   "id": "7a0b3ca6",
   "metadata": {},
   "outputs": [],
   "source": [
    "ttc_changes = ttc_diff[['name', 'season', 'time_to_contact_diff', 'o_swing_pct_diff', 'overall_value_diff', \n",
    "                        'chase_value_diff', 'swing_percent_diff', 'ev50_diff', 'breaking_value_diff',\n",
    "                        'sweet_spot_pct_diff', 'avg_bat_speed_diff', 'xwoba_diff', 'average_swing_length_diff',\n",
    "                        'fastball_value_diff', 'offspeed_value_diff']]\n",
    "\n",
    "ttc_changes = ttc_changes.dropna()"
   ]
  },
  {
   "cell_type": "code",
   "execution_count": 54,
   "id": "594701fe",
   "metadata": {},
   "outputs": [
    {
     "data": {
      "image/png": "[encoded data removed]",
      "text/plain": [
       "<Figure size 800x400 with 1 Axes>"
      ]
     },
     "metadata": {},
     "output_type": "display_data"
    }
   ],
   "source": [
    "# Select only numeric columns for correlation calculation\n",
    "numeric_columns = ttc_changes.select_dtypes(include=['number'])\n",
    "control = ['swing_percent_diff', 'avg_bat_speed_diff']\n",
    "cols = [col for col in numeric_columns.columns if col not in ['time_to_contact_diff', control]]\n",
    "\n",
    "# Add a constant to the control variable.\n",
    "X_control = sm.add_constant(numeric_columns[control])\n",
    "\n",
    "# Regress the dependent variable on the control for its residuals.\n",
    "model_y = sm.OLS(numeric_columns['time_to_contact_diff'], X_control).fit()\n",
    "resid_y = model_y.resid\n",
    "\n",
    "partial_corr = {}\n",
    "for col in cols:\n",
    "    model_x = sm.OLS(numeric_columns[col], X_control).fit()\n",
    "    resid_x = model_x.resid\n",
    "    partial_corr[col] = np.corrcoef(resid_y, resid_x)[0, 1]\n",
    "\n",
    "# Plot the sorted partial correlations as a bar chart\n",
    "# drop average swing length diff from partial_corr\n",
    "cols_to_plot = ['o_swing_pct_diff', 'sweet_spot_pct_diff', 'chase_value_diff']\n",
    "partial_corr_plot = {k: v for k, v in partial_corr.items() if k in cols_to_plot}\n",
    "ax = pd.Series(partial_corr_plot).sort_values(ascending=False).plot(kind='bar', figsize=(8, 4))\n",
    "plt.ylabel('Partial Correlation')\n",
    "plt.title('Partial Correlation with time_to_contact_diff')\n",
    "plt.xticks(rotation=0, ha='center')\n",
    "plt.tight_layout()\n",
    "plt.show()"
   ]
  },
  {
   "cell_type": "code",
   "execution_count": 48,
   "id": "94e40708",
   "metadata": {},
   "outputs": [],
   "source": [
    "increase_group = ttc_changes[ttc_changes['time_to_contact_diff'] > 0.005]\n",
    "decrease_group = ttc_changes[ttc_changes['time_to_contact_diff'] < -0.005]\n",
    "no_change_group = ttc_changes[(ttc_changes['time_to_contact_diff'] > -0.001) & (ttc_changes['time_to_contact_diff'] < 0.001)]\n",
    "\n",
    "increase_num = increase_group.select_dtypes('number')\n",
    "decrease_num = decrease_group.select_dtypes('number')\n",
    "no_change_num = no_change_group.select_dtypes('number')\n",
    "\n",
    "# Set the constant values for the control columns to their mean in the whole ttc_changes dataset\n",
    "const_swing = ttc_changes['swing_percent_diff'].mean()\n",
    "const_batspeed = ttc_changes['avg_bat_speed_diff'].mean()\n",
    "const_xwoba = ttc_changes['xwoba_diff'].mean()\n",
    "\n",
    "\n",
    "def compute_adjusted_df(df, num_df):\n",
    "    adjusted = num_df.copy()\n",
    "    for col in num_df.columns:\n",
    "        if col in ['season', 'time_to_contact_diff']:\n",
    "            # Don't adjust season or the dependent variable\n",
    "            continue\n",
    "        # Build the control matrix for this group\n",
    "        X = np.column_stack([\n",
    "            df['swing_percent_diff'],\n",
    "            df['avg_bat_speed_diff'],\n",
    "            df['xwoba_diff']\n",
    "        ])\n",
    "        # Target values for the controls (means from the whole dataset)\n",
    "        X_const = np.array([const_swing, const_batspeed, const_xwoba])\n",
    "        # Fit linear regression: col ~ controls\n",
    "        X_with_const = np.column_stack([np.ones(len(df)), X])\n",
    "        beta, *coefs = np.linalg.lstsq(X_with_const, num_df[col], rcond=None)[0]\n",
    "        # Predicted value at the group controls\n",
    "        pred_at_group = beta + np.dot(X, coefs)\n",
    "        # Predicted value at the constants\n",
    "        pred_at_const = beta + np.dot(X_const, coefs)\n",
    "        # Adjust each value to what it would be if controls were at the constants\n",
    "        adjusted[col] = num_df[col] + (pred_at_const - pred_at_group)\n",
    "    # For the control columns, set to the constant\n",
    "    adjusted['swing_percent_diff'] = const_swing\n",
    "    adjusted['avg_bat_speed_diff'] = const_batspeed\n",
    "    adjusted['xwoba_diff'] = const_xwoba\n",
    "    return adjusted\n",
    "\n",
    "increase_group_adjusted = compute_adjusted_df(increase_group, increase_num)\n",
    "decrease_group_adjusted = compute_adjusted_df(decrease_group, decrease_num)\n",
    "no_change_group_adjusted = compute_adjusted_df(no_change_group, no_change_num)"
   ]
  },
  {
   "cell_type": "code",
   "execution_count": null,
   "id": "88046c06",
   "metadata": {},
   "outputs": [
    {
     "data": {
      "image/png": "[encoded data removed]",
      "text/plain": [
       "<Figure size 1000x500 with 1 Axes>"
      ]
     },
     "metadata": {},
     "output_type": "display_data"
    }
   ],
   "source": [
    "import matplotlib.pyplot as plt\n",
    "\n",
    "# Collect means for each group (excluding 'season')\n",
    "means_df = pd.DataFrame({\n",
    "    'Increase': increase_group_adjusted.mean(),\n",
    "    'Decrease': decrease_group_adjusted.mean(),\n",
    "}).drop('season')\n",
    "\n",
    "# Select only the specified columns for plotting\n",
    "cols_to_plot = ['overall_value_diff', 'chase_value_diff', 'breaking_value_diff', 'fastball_value_diff', 'o-swing']\n",
    "means_df.loc[cols_to_plot].plot(kind='bar', figsize=(10, 5))\n",
    "plt.ylabel('Adjusted Mean')\n",
    "plt.title('Adjusted Means by Group')\n",
    "plt.xticks(rotation=45, ha='right')\n",
    "plt.tight_layout()\n",
    "plt.show()"
   ]
  },
  {
   "cell_type": "markdown",
   "id": "114ec914",
   "metadata": {},
   "source": [
    "### ANOVA Test"
   ]
  },
  {
   "cell_type": "code",
   "execution_count": 57,
   "id": "116332ea",
   "metadata": {},
   "outputs": [
    {
     "name": "stdout",
     "output_type": "stream",
     "text": [
      "ANOVA for overall: F = 8.437, p = 0.000\n",
      "ANOVA for chase: F = 3.222, p = 0.042\n",
      "ANOVA for breaking: F = 2.459, p = 0.089\n",
      "ANOVA for fastball: F = 0.613, p = 0.543\n"
     ]
    }
   ],
   "source": [
    "from scipy.stats import f_oneway\n",
    "\n",
    "f_stat_overall, p_val_overall = f_oneway(\n",
    "    increase_group_adjusted['overall_value_diff'],\n",
    "    decrease_group_adjusted['overall_value_diff'],\n",
    "    no_change_group_adjusted['overall_value_diff']\n",
    ")\n",
    "\n",
    "f_stat_chase, p_val_chase = f_oneway(\n",
    "    increase_group_adjusted['chase_value_diff'],\n",
    "    decrease_group_adjusted['chase_value_diff'],\n",
    "    no_change_group_adjusted['chase_value_diff']\n",
    ")\n",
    "\n",
    "f_stat_break, p_val_break = f_oneway(\n",
    "    increase_group_adjusted['breaking_value_diff'],\n",
    "    decrease_group_adjusted['breaking_value_diff'],\n",
    "    no_change_group_adjusted['breaking_value_diff']\n",
    ")\n",
    "\n",
    "f_stat_fastball, p_val_fastball = f_oneway(\n",
    "    increase_group_adjusted['fastball_value_diff'],\n",
    "    decrease_group_adjusted['fastball_value_diff'],\n",
    "    no_change_group_adjusted['fastball_value_diff']\n",
    ")\n",
    "\n",
    "print(\"ANOVA for overall: F = {:.3f}, p = {:.3f}\".format(f_stat_o, p_val_o))\n",
    "print(\"ANOVA for chase: F = {:.3f}, p = {:.3f}\".format(f_stat_chase, p_val_chase))\n",
    "print(\"ANOVA for breaking: F = {:.3f}, p = {:.3f}\".format(f_stat_break, p_val_break))\n",
    "print(\"ANOVA for fastball: F = {:.3f}, p = {:.3f}\".format(f_stat_sweet, p_val_sweet))\n"
   ]
  },
  {
   "cell_type": "markdown",
   "id": "5a1cb565",
   "metadata": {},
   "source": [
    "### T Test"
   ]
  },
  {
   "cell_type": "code",
   "execution_count": 51,
   "id": "bbd56e09",
   "metadata": {},
   "outputs": [
    {
     "name": "stdout",
     "output_type": "stream",
     "text": [
      "Welch's t-test for breaking_value_diff:\n",
      "t-statistic = -1.719, p-value = 0.093\n"
     ]
    }
   ],
   "source": [
    "from scipy.stats import ttest_ind\n",
    "\n",
    "\n",
    "t_stat, p_val = ttest_ind(\n",
    "    increase_group_adjusted['breaking_value_diff'],\n",
    "    decrease_group_adjusted['breaking_value_diff'],\n",
    "    equal_var=False\n",
    ")\n",
    "\n",
    "print(\"Welch's t-test for breaking_value_diff:\")\n",
    "print(f\"t-statistic = {t_stat:.3f}, p-value = {p_val:.3f}\")"
   ]
  },
  {
   "cell_type": "code",
   "execution_count": 52,
   "id": "bc8e2669",
   "metadata": {},
   "outputs": [
    {
     "name": "stdout",
     "output_type": "stream",
     "text": [
      "Welch's t-test for o_swing_pct_diff (increase vs no change):\n",
      "t-statistic = 1.304, p-value = 0.206\n"
     ]
    }
   ],
   "source": [
    "from scipy.stats import ttest_ind\n",
    "\n",
    "# Welch's t-test between increase_group_adjusted and no_change_group_adjusted for o_swing_pct_diff\n",
    "t_stat_oswing, p_val_oswing = ttest_ind(\n",
    "    increase_group_adjusted['o_swing_pct_diff'],\n",
    "    no_change_group_adjusted['o_swing_pct_diff'],\n",
    "    equal_var=False\n",
    ")\n",
    "\n",
    "print(\"Welch's t-test for o_swing_pct_diff (increase vs no change):\")\n",
    "print(f\"t-statistic = {t_stat_oswing:.3f}, p-value = {p_val_oswing:.3f}\")"
   ]
  }
 ],
 "metadata": {
  "kernelspec": {
   "display_name": "base",
   "language": "python",
   "name": "python3"
  },
  "language_info": {
   "codemirror_mode": {
    "name": "ipython",
    "version": 3
   },
   "file_extension": ".py",
   "mimetype": "text/x-python",
   "name": "python",
   "nbconvert_exporter": "python",
   "pygments_lexer": "ipython3",
   "version": "3.12.7"
  }
 },
 "nbformat": 4,
 "nbformat_minor": 5
}
