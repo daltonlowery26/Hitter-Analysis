{
 "cells": [
  {
   "cell_type": "markdown",
   "id": "01e121cb",
   "metadata": {},
   "source": [
    "#### When various stats stabalize"
   ]
  },
  {
   "cell_type": "code",
   "execution_count": 3,
   "id": "7a649f8e",
   "metadata": {},
   "outputs": [],
   "source": [
    "import pandas as pd\n",
    "import numpy as np\n",
    "import os\n",
    "\n",
    "os.chdir('C:/Users/dalto/OneDrive/Pictures/Documents/Projects/Coding Projects/Hitting Analysis/data')"
   ]
  },
  {
   "cell_type": "code",
   "execution_count": 4,
   "id": "811918ad",
   "metadata": {},
   "outputs": [],
   "source": [
    "pitch_level = pd.read_csv('./full/pitch.csv')"
   ]
  },
  {
   "cell_type": "markdown",
   "id": "e2ff203a",
   "metadata": {},
   "source": [
    "##### xwobacon stablize point"
   ]
  },
  {
   "cell_type": "code",
   "execution_count": null,
   "id": "1cf4a484",
   "metadata": {},
   "outputs": [],
   "source": [
    "hit_into_play = pitch_level[pitch_level['description'] == 'hit_into_play']\n",
    "hit_into_play = hit_into_play[hit_into_play['xwoba'].notna()]\n",
    "hit_into_play = hit_into_play[hit_into_play['season'] == 2024]"
   ]
  },
  {
   "cell_type": "code",
   "execution_count": 12,
   "id": "f10def41",
   "metadata": {},
   "outputs": [
    {
     "name": "stdout",
     "output_type": "stream",
     "text": [
      "Correlation between sampled mean xwoba and overall xwoba: 0.7156812453290564\n"
     ]
    },
    {
     "name": "stderr",
     "output_type": "stream",
     "text": [
      "C:\\Users\\dalto\\AppData\\Local\\Temp\\ipykernel_6160\\3934934462.py:5: DeprecationWarning: DataFrameGroupBy.apply operated on the grouping columns. This behavior is deprecated, and in a future version of pandas the grouping columns will be excluded from the operation. Either pass `include_groups=False` to exclude the groupings or explicitly select the grouping columns after groupby to silence this warning.\n",
      "  .apply(lambda x: x.sample(n=60, replace=True)['xwoba'].mean() if len(x) >= 50 else np.nan)\n"
     ]
    }
   ],
   "source": [
    "batter_xwoba = hit_into_play.groupby('batter')['xwoba'].mean()\n",
    "\n",
    "sampled_means = (\n",
    "    hit_into_play.groupby('batter')\n",
    "    .apply(lambda x: x.sample(n=60, replace=True)['xwoba'].mean() if len(x) >= 50 else np.nan)\n",
    "    .dropna()\n",
    ")\n",
    "\n",
    "common_batters = sampled_means.index.intersection(batter_xwoba.index)\n",
    "correlation = sampled_means[common_batters].corr(batter_xwoba[common_batters])\n",
    "print(\"Correlation between sampled mean xwoba and overall xwoba:\", correlation)"
   ]
  }
 ],
 "metadata": {
  "kernelspec": {
   "display_name": "base",
   "language": "python",
   "name": "python3"
  },
  "language_info": {
   "codemirror_mode": {
    "name": "ipython",
    "version": 3
   },
   "file_extension": ".py",
   "mimetype": "text/x-python",
   "name": "python",
   "nbconvert_exporter": "python",
   "pygments_lexer": "ipython3",
   "version": "3.12.7"
  }
 },
 "nbformat": 4,
 "nbformat_minor": 5
}
